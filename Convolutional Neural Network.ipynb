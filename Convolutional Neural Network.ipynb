{
 "cells": [
  {
   "cell_type": "markdown",
   "metadata": {},
   "source": [
    "## CIFAR Image Classification with a Convolutional Neural Network \n"
   ]
  },
  {
   "cell_type": "markdown",
   "metadata": {},
   "source": [
    "By: Alex Stahl \n",
    "\n",
    "In my initial report, I used the average of each image for each category to classify the unlabeled images and achieved an accuracy of 24.14%. In order to get a higher accuracy I will need to use a more advanced technique, in this case, a simple convolutional neural network. \n",
    "\n",
    "Resources used:\n",
    "- https://github.com/keras-team/keras/blob/master/examples/cifar10_cnn.py \n",
    "- https://elitedatascience.com/keras-tutorial-deep-learning-in-python\n",
    "- https://blog.plon.io/tutorials/cifar-10-classification-using-keras-tutorial/"
   ]
  },
  {
   "cell_type": "markdown",
   "metadata": {},
   "source": [
    "## Importing dataset and keras tools"
   ]
  },
  {
   "cell_type": "markdown",
   "metadata": {},
   "source": [
    "I will be using the keras package to construct and train this network."
   ]
  },
  {
   "cell_type": "code",
   "execution_count": 1,
   "metadata": {},
   "outputs": [
    {
     "name": "stderr",
     "output_type": "stream",
     "text": [
      "Using TensorFlow backend.\n"
     ]
    }
   ],
   "source": [
    "import keras\n",
    "import numpy as np\n",
    "np.random.seed(300)  # for reproducability of results\n",
    "from keras.models import Sequential  # Using sequential model\n",
    "from keras.layers import Dense, Dropout, Activation, Flatten\n",
    "from keras.layers import Conv2D, MaxPooling2D\n",
    "from keras.utils import np_utils\n",
    "import os  # used to save our trained model and interface with our os"
   ]
  },
  {
   "cell_type": "markdown",
   "metadata": {},
   "source": [
    "## Declaring variables"
   ]
  },
  {
   "cell_type": "code",
   "execution_count": 4,
   "metadata": {
    "collapsed": true
   },
   "outputs": [],
   "source": [
    "batch_size = 32 # batch size is the number of training samples in a forward/backward pass\n",
    "num_classes = 10 # there are 10 different labels for images\n",
    "epochs = 75 # one forward and backwards pass through all training examples"
   ]
  },
  {
   "cell_type": "markdown",
   "metadata": {},
   "source": [
    "## Load data and split into training and test sets"
   ]
  },
  {
   "cell_type": "code",
   "execution_count": 5,
   "metadata": {},
   "outputs": [
    {
     "name": "stdout",
     "output_type": "stream",
     "text": [
      "shape of x_train: (50000, 32, 32, 3)\n"
     ]
    }
   ],
   "source": [
    "from keras.datasets import cifar10  # no need to download from kaggle, already contained within keras\n",
    "(x_train, y_train), (x_test, y_test) = cifar10.load_data()\n",
    "print('shape of x_train:', x_train.shape)\n",
    "\n",
    "# Convert and preprocess the data\n",
    "# Normalize and convert the data to appropriate types\n",
    "y_train = np_utils.to_categorical(y_train, num_classes)\n",
    "y_test = np_utils.to_categorical(y_test, num_classes)   # image labels are categorical\n",
    "x_train = x_train.astype('float32')\n",
    "x_test = x_test.astype('float32')     # float from 0 to 1\n",
    "x_train  /= 255 \n",
    "x_test /= 255    # pixel values are from 0 to 255, we want this normalized from 0 to 1"
   ]
  },
  {
   "cell_type": "markdown",
   "metadata": {
    "collapsed": true
   },
   "source": [
    "# The sequential model"
   ]
  },
  {
   "cell_type": "markdown",
   "metadata": {},
   "source": [
    "Types of layers:\n",
    "* Convolutional - Applies a 2D convolution to the input, essentially passing a filter that detects edges and other elementary features\n",
    "* Activation(relu) - ReLU activation is used in place of a sigmoid here because it is much faster\n",
    "* MaxPooling - As a method of preventing overfitting, maxpooling effectively downsamples the image\n",
    "* Dropout - removes random nodes in the network in order to prevent overfitting (overfitting is when the model learns the exact training data too closely, effectively memorizing it and not being able to generalize)\n",
    "* Dense/Actctivation - A fully connected layer with 10 output nodes(corresponding to the classes of images)\n",
    "\n",
    "The structure of this model is mirrored from the example provided in the keras library."
   ]
  },
  {
   "cell_type": "code",
   "execution_count": 7,
   "metadata": {
    "collapsed": true
   },
   "outputs": [],
   "source": [
    "model = Sequential()\n",
    "\n",
    "# block 1\n",
    "model.add(Conv2D(32, (3, 3), padding='same',\n",
    "                 input_shape=x_train.shape[1:]))\n",
    "model.add(Activation('relu'))\n",
    "model.add(Conv2D(32, (3, 3)))\n",
    "model.add(Activation('relu'))\n",
    "model.add(MaxPooling2D(pool_size=(2, 2)))\n",
    "model.add(Dropout(0.25))\n",
    "\n",
    "# block 2\n",
    "model.add(Conv2D(64, (3, 3), padding='same'))\n",
    "model.add(Activation('relu'))\n",
    "model.add(Conv2D(64, (3, 3)))\n",
    "model.add(Activation('relu'))\n",
    "model.add(MaxPooling2D(pool_size=(2, 2)))\n",
    "model.add(Dropout(0.25))\n",
    "\n",
    "# block 3\n",
    "model.add(Flatten())\n",
    "model.add(Dense(512))\n",
    "model.add(Activation('relu'))\n",
    "model.add(Dropout(0.5))\n",
    "model.add(Dense(num_classes))\n",
    "model.add(Activation('softmax'))"
   ]
  },
  {
   "cell_type": "code",
   "execution_count": null,
   "metadata": {
    "collapsed": true
   },
   "outputs": [],
   "source": [
    "sgd = SGD(lr = 0.1, decay=1e-6, momentum=0.9 nesterov=True) # schochastic gradient descent for backpropagation (more at https://keras.io/optimizers/#sgd)\n",
    " \n",
    "# Train model\n",
    "model.compile(loss='categorical_crossentropy', optimizer=sgd, metrics=['accuracy'])\n",
    "return model\n",
    "cnn_n = base_model()\n",
    "cnn_n.summary()\n",
    " \n",
    "# Fit model\n",
    "cnn = cnn_n.fit(x_train, y_train, batch_size=batch_size, epochs=epochs, validation_data=(x_test,y_test),shuffle=True)"
   ]
  }
 ],
 "metadata": {
  "kernelspec": {
   "display_name": "Python 3",
   "language": "python",
   "name": "python3"
  },
  "language_info": {
   "codemirror_mode": {
    "name": "ipython",
    "version": 3
   },
   "file_extension": ".py",
   "mimetype": "text/x-python",
   "name": "python",
   "nbconvert_exporter": "python",
   "pygments_lexer": "ipython3",
   "version": "3.6.3"
  }
 },
 "nbformat": 4,
 "nbformat_minor": 2
}
