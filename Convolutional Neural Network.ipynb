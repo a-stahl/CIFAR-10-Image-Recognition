{
  "nbformat": 4,
  "nbformat_minor": 0,
  "metadata": {
    "colab": {
      "name": "Convolutional Neural Network.ipynb",
      "version": "0.3.2",
      "views": {},
      "default_view": {},
      "provenance": [
        {
          "file_id": "1spxfnAKSAm4fRP4Tm8E8PRzzGzbT9qa0",
          "timestamp": 1519699972435
        }
      ],
      "collapsed_sections": []
    },
    "kernelspec": {
      "display_name": "Python 3",
      "language": "python",
      "name": "python3"
    },
    "accelerator": "GPU"
  },
  "cells": [
    {
      "metadata": {
        "id": "hOiZ4iTBCGSJ",
        "colab_type": "text"
      },
      "cell_type": "markdown",
      "source": [
        "## CIFAR Image Classification with a Convolutional Neural Network \n"
      ]
    },
    {
      "metadata": {
        "id": "KOGblLwrCGSK",
        "colab_type": "text"
      },
      "cell_type": "markdown",
      "source": [
        "By: Alex Stahl \n",
        "\n",
        "In my initial report, I used the average of each image for each category to classify the unlabeled images and achieved an accuracy of 24.14%. In order to get a higher accuracy I will need to use a more advanced technique, in this case, a simple convolutional neural network. \n",
        "\n",
        "Resources used:\n",
        "- https://github.com/keras-team/keras/blob/master/examples/cifar10_cnn.py \n",
        "- https://elitedatascience.com/keras-tutorial-deep-learning-in-python\n",
        "- https://blog.plon.io/tutorials/cifar-10-classification-using-keras-tutorial/\n",
        "- https://towardsdatascience.com/types-of-optimization-algorithms-used-in-neural-networks-and-ways-to-optimize-gradient-95ae5d39529f"
      ]
    },
    {
      "metadata": {
        "id": "2oKQ32SgCGSL",
        "colab_type": "text"
      },
      "cell_type": "markdown",
      "source": [
        "## Importing dataset and keras tools"
      ]
    },
    {
      "metadata": {
        "id": "hroVji4JCGSM",
        "colab_type": "text"
      },
      "cell_type": "markdown",
      "source": [
        "I will be using the keras package to construct and train this network and matplotlib to visualize the results."
      ]
    },
    {
      "metadata": {
        "id": "lJHdChpNCGSM",
        "colab_type": "code",
        "colab": {
          "autoexec": {
            "startup": false,
            "wait_interval": 0
          },
          "output_extras": [
            {
              "item_id": 1
            }
          ],
          "base_uri": "https://localhost:8080/",
          "height": 101
        },
        "outputId": "ab1f8c29-0546-473f-b1da-8da2bf1c91fe",
        "executionInfo": {
          "status": "ok",
          "timestamp": 1519791870765,
          "user_tz": 360,
          "elapsed": 1893,
          "user": {
            "displayName": "Alex S",
            "photoUrl": "//lh6.googleusercontent.com/-mH-Eos6RmoI/AAAAAAAAAAI/AAAAAAAAAbo/mYhi0OCu_7E/s50-c-k-no/photo.jpg",
            "userId": "117863944102339058222"
          }
        }
      },
      "cell_type": "code",
      "source": [
        "!pip install keras\n",
        "import keras\n",
        "import numpy as np\n",
        "import matplotlib.pyplot as plt\n",
        "np.random.seed(300)  # for reproducability of results\n",
        "from keras.models import Sequential  # Using sequential model\n",
        "from keras.layers import Dense, Dropout, Activation, Flatten\n",
        "from keras.layers import Conv2D, MaxPooling2D\n",
        "from keras.utils import np_utils\n",
        "from keras.models import load_model\n",
        "from keras.preprocessing.image import ImageDataGenerator\n",
        "import os  # used to save our trained model and interface with our os"
      ],
      "execution_count": 9,
      "outputs": [
        {
          "output_type": "stream",
          "text": [
            "Requirement already satisfied: keras in /usr/local/lib/python3.6/dist-packages\r\n",
            "Requirement already satisfied: six>=1.9.0 in /usr/local/lib/python3.6/dist-packages (from keras)\r\n",
            "Requirement already satisfied: numpy>=1.9.1 in /usr/local/lib/python3.6/dist-packages (from keras)\r\n",
            "Requirement already satisfied: pyyaml in /usr/local/lib/python3.6/dist-packages (from keras)\r\n",
            "Requirement already satisfied: scipy>=0.14 in /usr/local/lib/python3.6/dist-packages (from keras)\r\n"
          ],
          "name": "stdout"
        }
      ]
    },
    {
      "metadata": {
        "id": "WLdHVtNDCGSS",
        "colab_type": "text"
      },
      "cell_type": "markdown",
      "source": [
        "## Declaring variables"
      ]
    },
    {
      "metadata": {
        "id": "W48-_JBPCGSU",
        "colab_type": "code",
        "colab": {
          "autoexec": {
            "startup": false,
            "wait_interval": 0
          }
        }
      },
      "cell_type": "code",
      "source": [
        "batch_size = 32 # batch size is the number of training samples in a forward/backward pass\n",
        "num_classes = 10 # there are 10 different labels for images\n",
        "epochs = 100 # one forward and backwards pass through all training examples"
      ],
      "execution_count": 0,
      "outputs": []
    },
    {
      "metadata": {
        "id": "-UVDU_lKCGSW",
        "colab_type": "text"
      },
      "cell_type": "markdown",
      "source": [
        "## Load data and split into training and test sets"
      ]
    },
    {
      "metadata": {
        "id": "Ko9oNEu9CGSW",
        "colab_type": "code",
        "colab": {
          "autoexec": {
            "startup": false,
            "wait_interval": 0
          },
          "output_extras": [
            {
              "item_id": 1
            }
          ],
          "base_uri": "https://localhost:8080/",
          "height": 51
        },
        "outputId": "e8fff352-b7f5-49a1-c355-d97778461a61",
        "executionInfo": {
          "status": "ok",
          "timestamp": 1519791871848,
          "user_tz": 360,
          "elapsed": 734,
          "user": {
            "displayName": "Alex S",
            "photoUrl": "//lh6.googleusercontent.com/-mH-Eos6RmoI/AAAAAAAAAAI/AAAAAAAAAbo/mYhi0OCu_7E/s50-c-k-no/photo.jpg",
            "userId": "117863944102339058222"
          }
        }
      },
      "cell_type": "code",
      "source": [
        "from keras.datasets import cifar10  # no need to download from kaggle, already contained within keras\n",
        "(x_train, y_train), (x_test, y_test) = cifar10.load_data()\n",
        "print('shape of x_train:', x_train.shape)\n",
        "print('shape of x_test:', x_test.shape)\n",
        "\n",
        "# Convert and preprocess the data\n",
        "# Normalize and convert the data to appropriate types\n",
        "y_train = np_utils.to_categorical(y_train, num_classes)\n",
        "y_test = np_utils.to_categorical(y_test, num_classes)   # image labels are categorical\n",
        "x_train = x_train.astype('float32')\n",
        "x_test = x_test.astype('float32')     # float from 0 to 1\n",
        "x_train  /= 255 \n",
        "x_test /= 255    # pixel values are from 0 to 255, we want this normalized from 0 to 1"
      ],
      "execution_count": 11,
      "outputs": [
        {
          "output_type": "stream",
          "text": [
            "shape of x_train: (50000, 32, 32, 3)\n",
            "shape of x_test: (10000, 32, 32, 3)\n"
          ],
          "name": "stdout"
        }
      ]
    },
    {
      "metadata": {
        "id": "qdBo3KI9CGSb",
        "colab_type": "text"
      },
      "cell_type": "markdown",
      "source": [
        "# The sequential model"
      ]
    },
    {
      "metadata": {
        "id": "g-XqP-tkCGSb",
        "colab_type": "text"
      },
      "cell_type": "markdown",
      "source": [
        "Types of layers:\n",
        "* Convolutional - Applies a 2D convolution to the input, essentially passing a filter that detects edges and other elementary features\n",
        "* Activation(relu) - ReLU activation is used in place of a sigmoid here because it is much faster\n",
        "* MaxPooling - As a method of preventing overfitting, maxpooling effectively downsamples the image\n",
        "* Dropout - removes random nodes in the network in order to prevent overfitting (overfitting is when the model learns the exact training data too closely, effectively memorizing it and not being able to generalize)\n",
        "* Dense/Activation - A fully connected layer with 10 output nodes(corresponding to the classes of images)\n",
        "\n",
        "The structure of this model is mirrored from the example provided in the keras library.\n",
        "The optimizer was chosen based off of advice from this article (https://towardsdatascience.com/types-of-optimization-algorithms-used-in-neural-networks-and-ways-to-optimize-gradient-95ae5d39529f)\n",
        "\n",
        "I will be testing this advice by training one model with schochastic gradient descent (SGD) and the other with NAdam (Adam with nesterov momentum). At the end I will compare and analyze the results of these two methods as they apply to this problem."
      ]
    },
    {
      "metadata": {
        "id": "lPdyYl4TCGSc",
        "colab_type": "code",
        "colab": {
          "autoexec": {
            "startup": false,
            "wait_interval": 0
          }
        }
      },
      "cell_type": "code",
      "source": [
        "def model_sgd():\n",
        "\n",
        "  model = Sequential()\n",
        "\n",
        "# block 1\n",
        "  model.add(Conv2D(32, (3, 3), padding='same',\n",
        "                 input_shape=x_train.shape[1:]))\n",
        "  model.add(Activation('relu'))\n",
        "  model.add(Conv2D(32, (3, 3)))\n",
        "  model.add(Activation('relu'))\n",
        "  model.add(MaxPooling2D(pool_size=(2, 2)))\n",
        "  model.add(Dropout(0.25))\n",
        "\n",
        "# block 2\n",
        "  model.add(Conv2D(64, (3, 3), padding='same'))\n",
        "  model.add(Activation('relu'))\n",
        "  model.add(Conv2D(64, (3, 3)))\n",
        "  model.add(Activation('relu'))\n",
        "  model.add(MaxPooling2D(pool_size=(2, 2)))\n",
        "  model.add(Dropout(0.25))\n",
        "\n",
        "# block 3\n",
        "  model.add(Flatten())\n",
        "  model.add(Dense(512))\n",
        "  model.add(Activation('relu'))\n",
        "  model.add(Dropout(0.5))\n",
        "  model.add(Dense(num_classes))\n",
        "  model.add(Activation('softmax'))\n",
        "  \n",
        "  nadam = keras.optimizers.Nadam(lr=0.002, beta_1=0.9, beta_2=0.999, epsilon=None, schedule_decay=0.004) \n",
        "  # Adam for backpropagation with added nesterov momentum (more at https://keras.io/optimizers/)\n",
        "  # Adam paper https://arxiv.org/abs/1412.6980v8 (this very well may be overkill for this size of a problem)\n",
        "  \n",
        "  sgd = keras.optimizers.SGD(lr=0.01, momentum=0.9, decay=1e-6, nesterov=False)\n",
        "  # schochastic gradient descent\n",
        "  \n",
        "  model.compile(loss='categorical_crossentropy', optimizer=sgd, metrics=['accuracy'])\n",
        "  return model\n"
      ],
      "execution_count": 0,
      "outputs": []
    },
    {
      "metadata": {
        "id": "tg7aTjulsMgy",
        "colab_type": "text"
      },
      "cell_type": "markdown",
      "source": [
        "## Data Augmentation"
      ]
    },
    {
      "metadata": {
        "id": "fjh4s56ceO4K",
        "colab_type": "text"
      },
      "cell_type": "markdown",
      "source": [
        "I decided to omit this section because it slowed training time and didn't result in any appreciable accuracy increases."
      ]
    },
    {
      "metadata": {
        "id": "tAVXb_3Gso-u",
        "colab_type": "code",
        "colab": {
          "autoexec": {
            "startup": false,
            "wait_interval": 0
          }
        }
      },
      "cell_type": "code",
      "source": [
        "#realtime data augmentation (not using ones I haven't learned yet)\n",
        "#datagen = ImageDataGenerator(\n",
        "#featurewise_center=False,  # set input mean to 0 over the dataset\n",
        "#samplewise_center=False,  # set each sample mean to 0\n",
        "#featurewise_std_normalization=False,  # divide inputs by std of the dataset\n",
        "#samplewise_std_normalization=False,  # divide each input by its std\n",
        "#zca_whitening=False,  # apply ZCA whitening\n",
        "#rotation_range=0,  # randomly rotate images in the range (degrees, 0 to 180)\n",
        "#width_shift_range=0.1,  # randomly shift images horizontally (fraction of total width)\n",
        "#height_shift_range=0.1,  # randomly shift images vertically (fraction of total height)\n",
        "#horizontal_flip=True,  # randomly flip images\n",
        "#vertical_flip=False)  # randomly flip images\n",
        "\n",
        "# Compute quantities required for feature-wise normalization\n",
        "# (std, mean, and principal components if ZCA whitening is applied).\n",
        "#datagen.fit(x_train)"
      ],
      "execution_count": 0,
      "outputs": []
    },
    {
      "metadata": {
        "id": "Jjsu-ohSsFEu",
        "colab_type": "text"
      },
      "cell_type": "markdown",
      "source": [
        "## Train and Save Model -SGD"
      ]
    },
    {
      "metadata": {
        "id": "yk3D4bNjCGSe",
        "colab_type": "code",
        "colab": {
          "autoexec": {
            "startup": false,
            "wait_interval": 0
          },
          "output_extras": [
            {
              "item_id": 10
            },
            {
              "item_id": 91
            },
            {
              "item_id": 120
            },
            {
              "item_id": 162
            },
            {
              "item_id": 194
            },
            {
              "item_id": 234
            },
            {
              "item_id": 264
            },
            {
              "item_id": 305
            },
            {
              "item_id": 336
            },
            {
              "item_id": 376
            },
            {
              "item_id": 406
            },
            {
              "item_id": 448
            },
            {
              "item_id": 479
            },
            {
              "item_id": 519
            },
            {
              "item_id": 550
            },
            {
              "item_id": 601
            },
            {
              "item_id": 636
            },
            {
              "item_id": 677
            },
            {
              "item_id": 709
            },
            {
              "item_id": 749
            },
            {
              "item_id": 780
            },
            {
              "item_id": 820
            },
            {
              "item_id": 865
            },
            {
              "item_id": 943
            },
            {
              "item_id": 974
            },
            {
              "item_id": 1015
            },
            {
              "item_id": 1046
            },
            {
              "item_id": 1087
            },
            {
              "item_id": 1118
            },
            {
              "item_id": 1158
            },
            {
              "item_id": 1188
            },
            {
              "item_id": 1229
            },
            {
              "item_id": 1259
            },
            {
              "item_id": 1300
            },
            {
              "item_id": 1332
            },
            {
              "item_id": 1372
            },
            {
              "item_id": 1403
            },
            {
              "item_id": 1443
            },
            {
              "item_id": 1505
            },
            {
              "item_id": 1545
            },
            {
              "item_id": 1577
            },
            {
              "item_id": 1617
            },
            {
              "item_id": 1668
            },
            {
              "item_id": 1716
            },
            {
              "item_id": 1747
            },
            {
              "item_id": 1789
            },
            {
              "item_id": 1819
            },
            {
              "item_id": 1860
            },
            {
              "item_id": 1891
            },
            {
              "item_id": 1932
            },
            {
              "item_id": 1964
            },
            {
              "item_id": 2004
            },
            {
              "item_id": 2035
            },
            {
              "item_id": 2077
            },
            {
              "item_id": 2109
            },
            {
              "item_id": 2150
            },
            {
              "item_id": 2181
            },
            {
              "item_id": 2221
            },
            {
              "item_id": 2274
            },
            {
              "item_id": 2315
            },
            {
              "item_id": 2346
            },
            {
              "item_id": 2387
            },
            {
              "item_id": 2418
            },
            {
              "item_id": 2459
            },
            {
              "item_id": 2489
            },
            {
              "item_id": 2549
            },
            {
              "item_id": 2579
            },
            {
              "item_id": 2603
            }
          ],
          "base_uri": "https://localhost:8080/",
          "height": 4136
        },
        "outputId": "8a493f29-281c-4e95-f916-c0b52d75cb85",
        "executionInfo": {
          "status": "ok",
          "timestamp": 1519794245654,
          "user_tz": 360,
          "elapsed": 2373050,
          "user": {
            "displayName": "Alex S",
            "photoUrl": "//lh6.googleusercontent.com/-mH-Eos6RmoI/AAAAAAAAAAI/AAAAAAAAAbo/mYhi0OCu_7E/s50-c-k-no/photo.jpg",
            "userId": "117863944102339058222"
          }
        }
      },
      "cell_type": "code",
      "source": [
        "# Train model\n",
        "cnn_n = model_sgd()\n",
        "cnn_n.summary()\n",
        " \n",
        "# Fit model\n",
        "cnn_nh = cnn_n.fit(x_train, y_train, \n",
        "                batch_size=batch_size, \n",
        "                epochs=epochs, \n",
        "                validation_data=(x_test,y_test),\n",
        "                shuffle=True)"
      ],
      "execution_count": 14,
      "outputs": [
        {
          "output_type": "stream",
          "text": [
            "_________________________________________________________________\n",
            "Layer (type)                 Output Shape              Param #   \n",
            "=================================================================\n",
            "conv2d_5 (Conv2D)            (None, 32, 32, 32)        896       \n",
            "_________________________________________________________________\n",
            "activation_7 (Activation)    (None, 32, 32, 32)        0         \n",
            "_________________________________________________________________\n",
            "conv2d_6 (Conv2D)            (None, 30, 30, 32)        9248      \n",
            "_________________________________________________________________\n",
            "activation_8 (Activation)    (None, 30, 30, 32)        0         \n",
            "_________________________________________________________________\n",
            "max_pooling2d_3 (MaxPooling2 (None, 15, 15, 32)        0         \n",
            "_________________________________________________________________\n",
            "dropout_4 (Dropout)          (None, 15, 15, 32)        0         \n",
            "_________________________________________________________________\n",
            "conv2d_7 (Conv2D)            (None, 15, 15, 64)        18496     \n",
            "_________________________________________________________________\n",
            "activation_9 (Activation)    (None, 15, 15, 64)        0         \n",
            "_________________________________________________________________\n",
            "conv2d_8 (Conv2D)            (None, 13, 13, 64)        36928     \n",
            "_________________________________________________________________\n",
            "activation_10 (Activation)   (None, 13, 13, 64)        0         \n",
            "_________________________________________________________________\n",
            "max_pooling2d_4 (MaxPooling2 (None, 6, 6, 64)          0         \n",
            "_________________________________________________________________\n",
            "dropout_5 (Dropout)          (None, 6, 6, 64)          0         \n",
            "_________________________________________________________________\n",
            "flatten_2 (Flatten)          (None, 2304)              0         \n",
            "_________________________________________________________________\n",
            "dense_3 (Dense)              (None, 512)               1180160   \n",
            "_________________________________________________________________\n",
            "activation_11 (Activation)   (None, 512)               0         \n",
            "_________________________________________________________________\n",
            "dropout_6 (Dropout)          (None, 512)               0         \n",
            "_________________________________________________________________\n",
            "dense_4 (Dense)              (None, 10)                5130      \n",
            "_________________________________________________________________\n",
            "activation_12 (Activation)   (None, 10)                0         \n",
            "=================================================================\n",
            "Total params: 1,250,858\n",
            "Trainable params: 1,250,858\n",
            "Non-trainable params: 0\n",
            "_________________________________________________________________\n",
            "Train on 50000 samples, validate on 10000 samples\n",
            "Epoch 1/100\n",
            " 3872/50000 [=>............................] - ETA: 24s - loss: 2.2975 - acc: 0.1087"
          ],
          "name": "stdout"
        },
        {
          "output_type": "stream",
          "text": [
            "50000/50000 [==============================] - 24s 487us/step - loss: 1.8682 - acc: 0.3079 - val_loss: 1.4795 - val_acc: 0.4592\n",
            "Epoch 2/100\n",
            "39552/50000 [======================>.......] - ETA: 4s - loss: 1.4203 - acc: 0.4837"
          ],
          "name": "stdout"
        },
        {
          "output_type": "stream",
          "text": [
            "50000/50000 [==============================] - 24s 480us/step - loss: 1.3957 - acc: 0.4939 - val_loss: 1.1593 - val_acc: 0.5831\n",
            "Epoch 3/100\n",
            "50000/50000 [==============================] - 24s 481us/step - loss: 1.2064 - acc: 0.5699 - val_loss: 1.0659 - val_acc: 0.6233\n",
            "Epoch 4/100\n",
            " 1440/50000 [..............................] - ETA: 22s - loss: 1.0819 - acc: 0.5986"
          ],
          "name": "stdout"
        },
        {
          "output_type": "stream",
          "text": [
            "50000/50000 [==============================] - 24s 476us/step - loss: 1.0722 - acc: 0.6196 - val_loss: 0.9021 - val_acc: 0.6808\n",
            "Epoch 5/100\n",
            "38496/50000 [======================>.......] - ETA: 5s - loss: 0.9846 - acc: 0.6519"
          ],
          "name": "stdout"
        },
        {
          "output_type": "stream",
          "text": [
            "50000/50000 [==============================] - 24s 475us/step - loss: 0.9801 - acc: 0.6535 - val_loss: 0.9275 - val_acc: 0.6707\n",
            "Epoch 6/100\n",
            "50000/50000 [==============================] - 24s 477us/step - loss: 0.9172 - acc: 0.6755 - val_loss: 0.8258 - val_acc: 0.7153\n",
            "Epoch 7/100\n",
            " 1312/50000 [..............................] - ETA: 21s - loss: 0.8151 - acc: 0.7104"
          ],
          "name": "stdout"
        },
        {
          "output_type": "stream",
          "text": [
            "50000/50000 [==============================] - 24s 475us/step - loss: 0.8773 - acc: 0.6926 - val_loss: 0.8786 - val_acc: 0.6942\n",
            "Epoch 8/100\n",
            "38496/50000 [======================>.......] - ETA: 5s - loss: 0.8404 - acc: 0.7088"
          ],
          "name": "stdout"
        },
        {
          "output_type": "stream",
          "text": [
            "50000/50000 [==============================] - 24s 474us/step - loss: 0.8406 - acc: 0.7083 - val_loss: 0.8056 - val_acc: 0.7204\n",
            "Epoch 9/100\n",
            "50000/50000 [==============================] - 24s 477us/step - loss: 0.8036 - acc: 0.7166 - val_loss: 0.7881 - val_acc: 0.7255\n",
            "Epoch 10/100\n",
            " 1440/50000 [..............................] - ETA: 22s - loss: 0.7621 - acc: 0.7326"
          ],
          "name": "stdout"
        },
        {
          "output_type": "stream",
          "text": [
            "50000/50000 [==============================] - 24s 475us/step - loss: 0.7815 - acc: 0.7249 - val_loss: 0.7612 - val_acc: 0.7325\n",
            "Epoch 11/100\n",
            "38400/50000 [======================>.......] - ETA: 5s - loss: 0.7613 - acc: 0.7351"
          ],
          "name": "stdout"
        },
        {
          "output_type": "stream",
          "text": [
            "50000/50000 [==============================] - 24s 478us/step - loss: 0.7666 - acc: 0.7333 - val_loss: 0.7313 - val_acc: 0.7451\n",
            "Epoch 12/100\n",
            "50000/50000 [==============================] - 24s 475us/step - loss: 0.7446 - acc: 0.7392 - val_loss: 0.7196 - val_acc: 0.7530\n",
            "Epoch 13/100\n",
            " 1184/50000 [..............................] - ETA: 22s - loss: 0.6793 - acc: 0.7635"
          ],
          "name": "stdout"
        },
        {
          "output_type": "stream",
          "text": [
            "50000/50000 [==============================] - 24s 478us/step - loss: 0.7316 - acc: 0.7437 - val_loss: 0.7387 - val_acc: 0.7461\n",
            "Epoch 14/100\n",
            "38432/50000 [======================>.......] - ETA: 5s - loss: 0.7169 - acc: 0.7533"
          ],
          "name": "stdout"
        },
        {
          "output_type": "stream",
          "text": [
            "50000/50000 [==============================] - 24s 479us/step - loss: 0.7221 - acc: 0.7503 - val_loss: 0.7118 - val_acc: 0.7530\n",
            "Epoch 15/100\n",
            "50000/50000 [==============================] - 24s 477us/step - loss: 0.7064 - acc: 0.7551 - val_loss: 0.7455 - val_acc: 0.7427\n",
            "Epoch 16/100\n",
            " 1184/50000 [..............................] - ETA: 21s - loss: 0.6847 - acc: 0.7525"
          ],
          "name": "stdout"
        },
        {
          "output_type": "stream",
          "text": [
            "50000/50000 [==============================] - 24s 474us/step - loss: 0.7021 - acc: 0.7566 - val_loss: 0.7282 - val_acc: 0.7524\n",
            "Epoch 17/100\n",
            "38464/50000 [======================>.......] - ETA: 5s - loss: 0.6785 - acc: 0.7649"
          ],
          "name": "stdout"
        },
        {
          "output_type": "stream",
          "text": [
            "50000/50000 [==============================] - 24s 475us/step - loss: 0.6835 - acc: 0.7621 - val_loss: 0.7054 - val_acc: 0.7624\n",
            "Epoch 18/100\n",
            "50000/50000 [==============================] - 24s 477us/step - loss: 0.6803 - acc: 0.7635 - val_loss: 0.7610 - val_acc: 0.7485\n",
            "Epoch 19/100\n",
            " 1152/50000 [..............................] - ETA: 22s - loss: 0.6547 - acc: 0.7674"
          ],
          "name": "stdout"
        },
        {
          "output_type": "stream",
          "text": [
            "50000/50000 [==============================] - 24s 476us/step - loss: 0.6636 - acc: 0.7700 - val_loss: 0.7434 - val_acc: 0.7545\n",
            "Epoch 20/100\n",
            "38176/50000 [=====================>........] - ETA: 5s - loss: 0.6604 - acc: 0.7700"
          ],
          "name": "stdout"
        },
        {
          "output_type": "stream",
          "text": [
            "50000/50000 [==============================] - 24s 481us/step - loss: 0.6622 - acc: 0.7705 - val_loss: 0.6804 - val_acc: 0.7658\n",
            "Epoch 21/100\n",
            "50000/50000 [==============================] - 24s 477us/step - loss: 0.6481 - acc: 0.7753 - val_loss: 0.7030 - val_acc: 0.7622\n",
            "Epoch 22/100\n",
            " 1152/50000 [..............................] - ETA: 21s - loss: 0.7028 - acc: 0.7491"
          ],
          "name": "stdout"
        },
        {
          "output_type": "stream",
          "text": [
            "50000/50000 [==============================] - 24s 473us/step - loss: 0.6516 - acc: 0.7741 - val_loss: 0.7275 - val_acc: 0.7540\n",
            "Epoch 23/100\n",
            "38368/50000 [======================>.......] - ETA: 5s - loss: 0.6437 - acc: 0.7747"
          ],
          "name": "stdout"
        },
        {
          "output_type": "stream",
          "text": [
            "50000/50000 [==============================] - 24s 472us/step - loss: 0.6502 - acc: 0.7733 - val_loss: 0.7307 - val_acc: 0.7553\n",
            "Epoch 24/100\n",
            "50000/50000 [==============================] - 24s 470us/step - loss: 0.6306 - acc: 0.7821 - val_loss: 0.7053 - val_acc: 0.7634\n",
            "Epoch 25/100\n",
            " 1184/50000 [..............................] - ETA: 21s - loss: 0.5346 - acc: 0.8066"
          ],
          "name": "stdout"
        },
        {
          "output_type": "stream",
          "text": [
            "50000/50000 [==============================] - 23s 469us/step - loss: 0.6354 - acc: 0.7818 - val_loss: 0.7141 - val_acc: 0.7559\n",
            "Epoch 26/100\n",
            "38560/50000 [======================>.......] - ETA: 5s - loss: 0.6405 - acc: 0.7805"
          ],
          "name": "stdout"
        },
        {
          "output_type": "stream",
          "text": [
            "50000/50000 [==============================] - 24s 472us/step - loss: 0.6343 - acc: 0.7829 - val_loss: 0.7149 - val_acc: 0.7562\n",
            "Epoch 27/100\n",
            "50000/50000 [==============================] - 24s 471us/step - loss: 0.6368 - acc: 0.7814 - val_loss: 0.7129 - val_acc: 0.7585\n",
            "Epoch 28/100\n",
            " 1312/50000 [..............................] - ETA: 21s - loss: 0.6260 - acc: 0.7851"
          ],
          "name": "stdout"
        },
        {
          "output_type": "stream",
          "text": [
            "50000/50000 [==============================] - 24s 473us/step - loss: 0.6368 - acc: 0.7837 - val_loss: 0.7045 - val_acc: 0.7598\n",
            "Epoch 29/100\n",
            "38400/50000 [======================>.......] - ETA: 5s - loss: 0.6184 - acc: 0.7870"
          ],
          "name": "stdout"
        },
        {
          "output_type": "stream",
          "text": [
            "50000/50000 [==============================] - 24s 474us/step - loss: 0.6208 - acc: 0.7863 - val_loss: 0.7215 - val_acc: 0.7580\n",
            "Epoch 30/100\n",
            "50000/50000 [==============================] - 24s 473us/step - loss: 0.6252 - acc: 0.7860 - val_loss: 0.7383 - val_acc: 0.7534\n",
            "Epoch 31/100\n",
            " 1184/50000 [..............................] - ETA: 22s - loss: 0.5812 - acc: 0.7939"
          ],
          "name": "stdout"
        },
        {
          "output_type": "stream",
          "text": [
            "50000/50000 [==============================] - 24s 473us/step - loss: 0.6219 - acc: 0.7874 - val_loss: 0.7093 - val_acc: 0.7575\n",
            "Epoch 32/100\n",
            "38464/50000 [======================>.......] - ETA: 5s - loss: 0.6228 - acc: 0.7881"
          ],
          "name": "stdout"
        },
        {
          "output_type": "stream",
          "text": [
            "50000/50000 [==============================] - 24s 473us/step - loss: 0.6267 - acc: 0.7856 - val_loss: 0.7149 - val_acc: 0.7621\n",
            "Epoch 33/100\n",
            "50000/50000 [==============================] - 24s 473us/step - loss: 0.6019 - acc: 0.7930 - val_loss: 0.7682 - val_acc: 0.7465\n",
            "Epoch 34/100\n",
            " 1184/50000 [..............................] - ETA: 22s - loss: 0.6146 - acc: 0.7838"
          ],
          "name": "stdout"
        },
        {
          "output_type": "stream",
          "text": [
            "50000/50000 [==============================] - 24s 473us/step - loss: 0.6208 - acc: 0.7892 - val_loss: 0.6896 - val_acc: 0.7690\n",
            "Epoch 35/100\n",
            "38336/50000 [======================>.......] - ETA: 5s - loss: 0.5912 - acc: 0.7969"
          ],
          "name": "stdout"
        },
        {
          "output_type": "stream",
          "text": [
            "50000/50000 [==============================] - 24s 477us/step - loss: 0.6026 - acc: 0.7938 - val_loss: 0.7368 - val_acc: 0.7569\n",
            "Epoch 36/100\n",
            "50000/50000 [==============================] - 24s 472us/step - loss: 0.6071 - acc: 0.7943 - val_loss: 0.7100 - val_acc: 0.7645\n",
            "Epoch 37/100\n",
            " 1280/50000 [..............................] - ETA: 22s - loss: 0.5735 - acc: 0.8156"
          ],
          "name": "stdout"
        },
        {
          "output_type": "stream",
          "text": [
            "50000/50000 [==============================] - 24s 475us/step - loss: 0.6141 - acc: 0.7912 - val_loss: 0.7207 - val_acc: 0.7632\n",
            "Epoch 38/100\n",
            "38400/50000 [======================>.......] - ETA: 5s - loss: 0.6078 - acc: 0.7935"
          ],
          "name": "stdout"
        },
        {
          "output_type": "stream",
          "text": [
            "50000/50000 [==============================] - 24s 474us/step - loss: 0.6095 - acc: 0.7933 - val_loss: 0.7294 - val_acc: 0.7568\n",
            "Epoch 39/100\n",
            "50000/50000 [==============================] - 24s 474us/step - loss: 0.5984 - acc: 0.7972 - val_loss: 0.7328 - val_acc: 0.7579\n",
            "Epoch 40/100\n",
            " 1184/50000 [..............................] - ETA: 22s - loss: 0.6643 - acc: 0.7703"
          ],
          "name": "stdout"
        },
        {
          "output_type": "stream",
          "text": [
            "50000/50000 [==============================] - 24s 473us/step - loss: 0.6088 - acc: 0.7947 - val_loss: 0.7329 - val_acc: 0.7618\n",
            "Epoch 41/100\n",
            "38272/50000 [=====================>........] - ETA: 5s - loss: 0.5949 - acc: 0.7973"
          ],
          "name": "stdout"
        },
        {
          "output_type": "stream",
          "text": [
            "50000/50000 [==============================] - 24s 473us/step - loss: 0.5957 - acc: 0.7964 - val_loss: 0.7041 - val_acc: 0.7685\n",
            "Epoch 42/100\n",
            "50000/50000 [==============================] - 24s 474us/step - loss: 0.6014 - acc: 0.7964 - val_loss: 0.7179 - val_acc: 0.7682\n",
            "Epoch 43/100\n",
            " 1184/50000 [..............................] - ETA: 21s - loss: 0.6239 - acc: 0.7846"
          ],
          "name": "stdout"
        },
        {
          "output_type": "stream",
          "text": [
            "50000/50000 [==============================] - 24s 472us/step - loss: 0.6082 - acc: 0.7948 - val_loss: 0.7256 - val_acc: 0.7655\n",
            "Epoch 44/100\n",
            "38432/50000 [======================>.......] - ETA: 5s - loss: 0.5903 - acc: 0.7993"
          ],
          "name": "stdout"
        },
        {
          "output_type": "stream",
          "text": [
            "50000/50000 [==============================] - 24s 471us/step - loss: 0.5920 - acc: 0.7992 - val_loss: 0.7115 - val_acc: 0.7645\n",
            "Epoch 45/100\n",
            "50000/50000 [==============================] - 23s 469us/step - loss: 0.5910 - acc: 0.8025 - val_loss: 0.7375 - val_acc: 0.7614\n",
            "Epoch 46/100\n",
            " 1184/50000 [..............................] - ETA: 22s - loss: 0.6128 - acc: 0.7981"
          ],
          "name": "stdout"
        },
        {
          "output_type": "stream",
          "text": [
            "50000/50000 [==============================] - 24s 472us/step - loss: 0.5906 - acc: 0.8008 - val_loss: 0.7236 - val_acc: 0.7545\n",
            "Epoch 47/100\n",
            "38368/50000 [======================>.......] - ETA: 5s - loss: 0.5860 - acc: 0.8036"
          ],
          "name": "stdout"
        },
        {
          "output_type": "stream",
          "text": [
            "50000/50000 [==============================] - 24s 474us/step - loss: 0.5903 - acc: 0.8012 - val_loss: 0.7585 - val_acc: 0.7522\n",
            "Epoch 48/100\n",
            "50000/50000 [==============================] - 24s 473us/step - loss: 0.5977 - acc: 0.7993 - val_loss: 0.7270 - val_acc: 0.7606\n",
            "Epoch 49/100\n",
            " 1056/50000 [..............................] - ETA: 22s - loss: 0.5791 - acc: 0.8106"
          ],
          "name": "stdout"
        },
        {
          "output_type": "stream",
          "text": [
            "50000/50000 [==============================] - 24s 475us/step - loss: 0.6039 - acc: 0.7981 - val_loss: 0.7302 - val_acc: 0.7639\n",
            "Epoch 50/100\n",
            "38112/50000 [=====================>........] - ETA: 5s - loss: 0.5774 - acc: 0.8047"
          ],
          "name": "stdout"
        },
        {
          "output_type": "stream",
          "text": [
            "50000/50000 [==============================] - 24s 477us/step - loss: 0.5929 - acc: 0.8007 - val_loss: 0.7869 - val_acc: 0.7405\n",
            "Epoch 51/100\n",
            "50000/50000 [==============================] - 24s 472us/step - loss: 0.6039 - acc: 0.7988 - val_loss: 0.7359 - val_acc: 0.7608\n",
            "Epoch 52/100\n",
            " 1184/50000 [..............................] - ETA: 21s - loss: 0.6138 - acc: 0.8100"
          ],
          "name": "stdout"
        },
        {
          "output_type": "stream",
          "text": [
            "50000/50000 [==============================] - 24s 476us/step - loss: 0.5898 - acc: 0.8036 - val_loss: 0.7513 - val_acc: 0.7590\n",
            "Epoch 53/100\n",
            "38496/50000 [======================>.......] - ETA: 5s - loss: 0.5842 - acc: 0.8045"
          ],
          "name": "stdout"
        },
        {
          "output_type": "stream",
          "text": [
            "50000/50000 [==============================] - 24s 472us/step - loss: 0.5895 - acc: 0.8032 - val_loss: 0.7529 - val_acc: 0.7553\n",
            "Epoch 54/100\n",
            "50000/50000 [==============================] - 24s 475us/step - loss: 0.5924 - acc: 0.8015 - val_loss: 0.7699 - val_acc: 0.7533\n",
            "Epoch 55/100\n",
            " 1184/50000 [..............................] - ETA: 22s - loss: 0.6032 - acc: 0.8015"
          ],
          "name": "stdout"
        },
        {
          "output_type": "stream",
          "text": [
            "50000/50000 [==============================] - 24s 473us/step - loss: 0.6023 - acc: 0.7994 - val_loss: 0.7499 - val_acc: 0.7575\n",
            "Epoch 56/100\n",
            "38368/50000 [======================>.......] - ETA: 5s - loss: 0.5913 - acc: 0.8010"
          ],
          "name": "stdout"
        },
        {
          "output_type": "stream",
          "text": [
            "50000/50000 [==============================] - 24s 475us/step - loss: 0.5946 - acc: 0.8011 - val_loss: 0.7296 - val_acc: 0.7634\n",
            "Epoch 57/100\n",
            "50000/50000 [==============================] - 24s 474us/step - loss: 0.6015 - acc: 0.8001 - val_loss: 0.7611 - val_acc: 0.7481\n",
            "Epoch 58/100\n",
            " 1152/50000 [..............................] - ETA: 21s - loss: 0.6085 - acc: 0.7917"
          ],
          "name": "stdout"
        },
        {
          "output_type": "stream",
          "text": [
            "50000/50000 [==============================] - 23s 470us/step - loss: 0.5901 - acc: 0.8020 - val_loss: 0.7263 - val_acc: 0.7607\n",
            "Epoch 59/100\n",
            "38304/50000 [=====================>........] - ETA: 5s - loss: 0.5689 - acc: 0.8104"
          ],
          "name": "stdout"
        },
        {
          "output_type": "stream",
          "text": [
            "50000/50000 [==============================] - 24s 474us/step - loss: 0.5798 - acc: 0.8068 - val_loss: 0.7364 - val_acc: 0.7626\n",
            "Epoch 60/100\n",
            "50000/50000 [==============================] - 24s 473us/step - loss: 0.5919 - acc: 0.8040 - val_loss: 0.7466 - val_acc: 0.7548\n",
            "Epoch 61/100\n",
            " 1184/50000 [..............................] - ETA: 21s - loss: 0.5440 - acc: 0.8294"
          ],
          "name": "stdout"
        },
        {
          "output_type": "stream",
          "text": [
            "50000/50000 [==============================] - 24s 473us/step - loss: 0.5956 - acc: 0.8043 - val_loss: 0.7547 - val_acc: 0.7593\n",
            "Epoch 62/100\n",
            "38464/50000 [======================>.......] - ETA: 5s - loss: 0.5837 - acc: 0.8060"
          ],
          "name": "stdout"
        },
        {
          "output_type": "stream",
          "text": [
            "50000/50000 [==============================] - 24s 477us/step - loss: 0.5905 - acc: 0.8042 - val_loss: 0.7691 - val_acc: 0.7597\n",
            "Epoch 63/100\n",
            "50000/50000 [==============================] - 24s 471us/step - loss: 0.5955 - acc: 0.8012 - val_loss: 0.7693 - val_acc: 0.7550\n",
            "Epoch 64/100\n",
            " 1152/50000 [..............................] - ETA: 22s - loss: 0.6126 - acc: 0.7960"
          ],
          "name": "stdout"
        },
        {
          "output_type": "stream",
          "text": [
            "50000/50000 [==============================] - 24s 477us/step - loss: 0.5778 - acc: 0.8071 - val_loss: 0.7764 - val_acc: 0.7474\n",
            "Epoch 65/100\n",
            "38144/50000 [=====================>........] - ETA: 5s - loss: 0.5911 - acc: 0.8016"
          ],
          "name": "stdout"
        },
        {
          "output_type": "stream",
          "text": [
            "50000/50000 [==============================] - 24s 479us/step - loss: 0.5919 - acc: 0.8024 - val_loss: 0.8078 - val_acc: 0.7347\n",
            "Epoch 66/100\n",
            "50000/50000 [==============================] - 24s 473us/step - loss: 0.5986 - acc: 0.8008 - val_loss: 0.7474 - val_acc: 0.7581\n",
            "Epoch 67/100\n",
            " 1056/50000 [..............................] - ETA: 22s - loss: 0.6423 - acc: 0.7879"
          ],
          "name": "stdout"
        },
        {
          "output_type": "stream",
          "text": [
            "50000/50000 [==============================] - 24s 475us/step - loss: 0.5904 - acc: 0.8063 - val_loss: 0.7443 - val_acc: 0.7554\n",
            "Epoch 68/100\n",
            "38144/50000 [=====================>........] - ETA: 5s - loss: 0.5823 - acc: 0.8080"
          ],
          "name": "stdout"
        },
        {
          "output_type": "stream",
          "text": [
            "50000/50000 [==============================] - 24s 474us/step - loss: 0.5832 - acc: 0.8068 - val_loss: 0.7645 - val_acc: 0.7649\n",
            "Epoch 69/100\n",
            "50000/50000 [==============================] - 24s 475us/step - loss: 0.5789 - acc: 0.8098 - val_loss: 0.7586 - val_acc: 0.7566\n",
            "Epoch 70/100\n",
            " 1152/50000 [..............................] - ETA: 22s - loss: 0.5913 - acc: 0.8090"
          ],
          "name": "stdout"
        },
        {
          "output_type": "stream",
          "text": [
            "50000/50000 [==============================] - 24s 474us/step - loss: 0.5754 - acc: 0.8095 - val_loss: 0.7606 - val_acc: 0.7625\n",
            "Epoch 71/100\n",
            "38432/50000 [======================>.......] - ETA: 5s - loss: 0.5989 - acc: 0.8037"
          ],
          "name": "stdout"
        },
        {
          "output_type": "stream",
          "text": [
            "50000/50000 [==============================] - 24s 472us/step - loss: 0.5954 - acc: 0.8051 - val_loss: 0.7555 - val_acc: 0.7585\n",
            "Epoch 72/100\n",
            "50000/50000 [==============================] - 24s 473us/step - loss: 0.5744 - acc: 0.8090 - val_loss: 0.8237 - val_acc: 0.7389\n",
            "Epoch 73/100\n",
            " 1184/50000 [..............................] - ETA: 22s - loss: 0.5475 - acc: 0.8133"
          ],
          "name": "stdout"
        },
        {
          "output_type": "stream",
          "text": [
            "50000/50000 [==============================] - 24s 475us/step - loss: 0.6005 - acc: 0.8027 - val_loss: 0.7726 - val_acc: 0.7644\n",
            "Epoch 74/100\n",
            "38176/50000 [=====================>........] - ETA: 5s - loss: 0.5732 - acc: 0.8102"
          ],
          "name": "stdout"
        },
        {
          "output_type": "stream",
          "text": [
            "50000/50000 [==============================] - 24s 474us/step - loss: 0.5793 - acc: 0.8084 - val_loss: 0.7364 - val_acc: 0.7622\n",
            "Epoch 75/100\n",
            "50000/50000 [==============================] - 24s 475us/step - loss: 0.5821 - acc: 0.8091 - val_loss: 0.7117 - val_acc: 0.7736\n",
            "Epoch 76/100\n",
            " 1056/50000 [..............................] - ETA: 22s - loss: 0.5128 - acc: 0.8305"
          ],
          "name": "stdout"
        },
        {
          "output_type": "stream",
          "text": [
            "50000/50000 [==============================] - 24s 473us/step - loss: 0.5800 - acc: 0.8103 - val_loss: 0.7977 - val_acc: 0.7571\n",
            "Epoch 77/100\n",
            "38336/50000 [======================>.......] - ETA: 5s - loss: 0.5818 - acc: 0.8088"
          ],
          "name": "stdout"
        },
        {
          "output_type": "stream",
          "text": [
            "50000/50000 [==============================] - 24s 473us/step - loss: 0.5897 - acc: 0.8067 - val_loss: 0.8388 - val_acc: 0.7304\n",
            "Epoch 78/100\n",
            "50000/50000 [==============================] - 24s 470us/step - loss: 0.5980 - acc: 0.8028 - val_loss: 0.7789 - val_acc: 0.7475\n",
            "Epoch 79/100\n",
            " 1152/50000 [..............................] - ETA: 22s - loss: 0.5389 - acc: 0.8194"
          ],
          "name": "stdout"
        },
        {
          "output_type": "stream",
          "text": [
            "50000/50000 [==============================] - 24s 480us/step - loss: 0.5785 - acc: 0.8087 - val_loss: 0.7510 - val_acc: 0.7579\n",
            "Epoch 80/100\n",
            "38112/50000 [=====================>........] - ETA: 5s - loss: 0.5818 - acc: 0.8106"
          ],
          "name": "stdout"
        },
        {
          "output_type": "stream",
          "text": [
            "50000/50000 [==============================] - 24s 473us/step - loss: 0.5865 - acc: 0.8087 - val_loss: 0.7503 - val_acc: 0.7612\n",
            "Epoch 81/100\n",
            "50000/50000 [==============================] - 24s 474us/step - loss: 0.5820 - acc: 0.8098 - val_loss: 0.7769 - val_acc: 0.7458\n",
            "Epoch 82/100\n",
            " 1184/50000 [..............................] - ETA: 22s - loss: 0.5874 - acc: 0.8108"
          ],
          "name": "stdout"
        },
        {
          "output_type": "stream",
          "text": [
            "50000/50000 [==============================] - 24s 475us/step - loss: 0.5652 - acc: 0.8144 - val_loss: 0.7843 - val_acc: 0.7560\n",
            "Epoch 83/100\n",
            "38112/50000 [=====================>........] - ETA: 5s - loss: 0.5684 - acc: 0.8135"
          ],
          "name": "stdout"
        },
        {
          "output_type": "stream",
          "text": [
            "50000/50000 [==============================] - 24s 473us/step - loss: 0.5737 - acc: 0.8114 - val_loss: 0.7574 - val_acc: 0.7670\n",
            "Epoch 84/100\n",
            "50000/50000 [==============================] - 24s 472us/step - loss: 0.5757 - acc: 0.8127 - val_loss: 0.7738 - val_acc: 0.7536\n",
            "Epoch 85/100\n",
            "  992/50000 [..............................] - ETA: 22s - loss: 0.5007 - acc: 0.8236"
          ],
          "name": "stdout"
        },
        {
          "output_type": "stream",
          "text": [
            "50000/50000 [==============================] - 24s 473us/step - loss: 0.5817 - acc: 0.8098 - val_loss: 0.7771 - val_acc: 0.7488\n",
            "Epoch 86/100\n",
            "38304/50000 [=====================>........] - ETA: 5s - loss: 0.5829 - acc: 0.8099"
          ],
          "name": "stdout"
        },
        {
          "output_type": "stream",
          "text": [
            "50000/50000 [==============================] - 24s 473us/step - loss: 0.5765 - acc: 0.8110 - val_loss: 0.7654 - val_acc: 0.7593\n",
            "Epoch 87/100\n",
            "50000/50000 [==============================] - 24s 474us/step - loss: 0.5709 - acc: 0.8139 - val_loss: 0.7490 - val_acc: 0.7649\n",
            "Epoch 88/100\n",
            " 1152/50000 [..............................] - ETA: 22s - loss: 0.5826 - acc: 0.8134"
          ],
          "name": "stdout"
        },
        {
          "output_type": "stream",
          "text": [
            "50000/50000 [==============================] - 24s 475us/step - loss: 0.5725 - acc: 0.8152 - val_loss: 0.7540 - val_acc: 0.7631\n",
            "Epoch 89/100\n",
            "38464/50000 [======================>.......] - ETA: 5s - loss: 0.5685 - acc: 0.8133"
          ],
          "name": "stdout"
        },
        {
          "output_type": "stream",
          "text": [
            "50000/50000 [==============================] - 24s 474us/step - loss: 0.5748 - acc: 0.8120 - val_loss: 0.8005 - val_acc: 0.7450\n",
            "Epoch 90/100\n",
            "50000/50000 [==============================] - 24s 474us/step - loss: 0.5848 - acc: 0.8098 - val_loss: 0.7672 - val_acc: 0.7522\n",
            "Epoch 91/100\n",
            " 1184/50000 [..............................] - ETA: 22s - loss: 0.6093 - acc: 0.8015"
          ],
          "name": "stdout"
        },
        {
          "output_type": "stream",
          "text": [
            "50000/50000 [==============================] - 24s 477us/step - loss: 0.5736 - acc: 0.8142 - val_loss: 0.7474 - val_acc: 0.7653\n",
            "Epoch 92/100\n",
            "38272/50000 [=====================>........] - ETA: 5s - loss: 0.5776 - acc: 0.8112"
          ],
          "name": "stdout"
        },
        {
          "output_type": "stream",
          "text": [
            "50000/50000 [==============================] - 24s 474us/step - loss: 0.5798 - acc: 0.8109 - val_loss: 0.7376 - val_acc: 0.7674\n",
            "Epoch 93/100\n",
            "50000/50000 [==============================] - 24s 475us/step - loss: 0.5563 - acc: 0.8199 - val_loss: 0.7480 - val_acc: 0.7565\n",
            "Epoch 94/100\n",
            " 1152/50000 [..............................] - ETA: 22s - loss: 0.5642 - acc: 0.8212"
          ],
          "name": "stdout"
        },
        {
          "output_type": "stream",
          "text": [
            "50000/50000 [==============================] - 24s 476us/step - loss: 0.5789 - acc: 0.8126 - val_loss: 0.7804 - val_acc: 0.7465\n",
            "Epoch 95/100\n",
            "38336/50000 [======================>.......] - ETA: 5s - loss: 0.5733 - acc: 0.8128"
          ],
          "name": "stdout"
        },
        {
          "output_type": "stream",
          "text": [
            "50000/50000 [==============================] - 24s 472us/step - loss: 0.5816 - acc: 0.8111 - val_loss: 0.7897 - val_acc: 0.7549\n",
            "Epoch 96/100\n",
            "50000/50000 [==============================] - 24s 474us/step - loss: 0.5658 - acc: 0.8149 - val_loss: 0.7444 - val_acc: 0.7603\n",
            "Epoch 97/100\n",
            " 1184/50000 [..............................] - ETA: 21s - loss: 0.4573 - acc: 0.8471"
          ],
          "name": "stdout"
        },
        {
          "output_type": "stream",
          "text": [
            "50000/50000 [==============================] - 24s 471us/step - loss: 0.5784 - acc: 0.8129 - val_loss: 0.7482 - val_acc: 0.7582\n",
            "Epoch 98/100\n",
            "38400/50000 [======================>.......] - ETA: 5s - loss: 0.5726 - acc: 0.8164"
          ],
          "name": "stdout"
        },
        {
          "output_type": "stream",
          "text": [
            "50000/50000 [==============================] - 24s 474us/step - loss: 0.5622 - acc: 0.8195 - val_loss: 0.7538 - val_acc: 0.7634\n",
            "Epoch 99/100\n",
            "50000/50000 [==============================] - 24s 475us/step - loss: 0.5532 - acc: 0.8192 - val_loss: 0.7704 - val_acc: 0.7577\n",
            "Epoch 100/100\n",
            " 1184/50000 [..............................] - ETA: 21s - loss: 0.5941 - acc: 0.8193"
          ],
          "name": "stdout"
        },
        {
          "output_type": "stream",
          "text": [
            "50000/50000 [==============================] - 24s 473us/step - loss: 0.5708 - acc: 0.8146 - val_loss: 0.7700 - val_acc: 0.7576\n"
          ],
          "name": "stdout"
        }
      ]
    },
    {
      "metadata": {
        "id": "QpT_xRjmPZsb",
        "colab_type": "code",
        "colab": {
          "autoexec": {
            "startup": false,
            "wait_interval": 0
          },
          "output_extras": [
            {
              "item_id": 2
            }
          ],
          "base_uri": "https://localhost:8080/",
          "height": 84
        },
        "outputId": "108867f2-36d4-4510-e53a-edb985afb57b",
        "executionInfo": {
          "status": "ok",
          "timestamp": 1519794247565,
          "user_tz": 360,
          "elapsed": 1880,
          "user": {
            "displayName": "Alex S",
            "photoUrl": "//lh6.googleusercontent.com/-mH-Eos6RmoI/AAAAAAAAAAI/AAAAAAAAAbo/mYhi0OCu_7E/s50-c-k-no/photo.jpg",
            "userId": "117863944102339058222"
          }
        }
      },
      "cell_type": "code",
      "source": [
        "# os library allows us to interface with our operating system\n",
        "save_dir = os.path.join(os.getcwd(), 'saved_models')\n",
        "model_name = 'keras_cifar10_trained_model_sgd.h5'\n",
        "if not os.path.isdir(save_dir):\n",
        "    os.makedirs(save_dir)\n",
        "model_path = os.path.join(save_dir, model_name)\n",
        "cnn_n.save(model_path)\n",
        "print('Saved trained model at %s ' % model_path)\n",
        "\n",
        "# output score for model\n",
        "scores = cnn_n.evaluate(x_test, y_test, verbose=1)\n",
        "print('Test loss:', scores[0])\n",
        "print('Test accuracy:', scores[1])"
      ],
      "execution_count": 15,
      "outputs": [
        {
          "output_type": "stream",
          "text": [
            "Saved trained model at /content/saved_models/keras_cifar10_trained_model_sgd.h5 \n",
            "10000/10000 [==============================] - 2s 151us/step\n",
            "Test loss: 0.7699600620746613\n",
            "Test accuracy: 0.7576\n"
          ],
          "name": "stdout"
        }
      ]
    },
    {
      "metadata": {
        "id": "ZlbXRdGV32VN",
        "colab_type": "text"
      },
      "cell_type": "markdown",
      "source": [
        "## Visualizing results - SGD"
      ]
    },
    {
      "metadata": {
        "id": "fsAnxkKnSF2q",
        "colab_type": "text"
      },
      "cell_type": "markdown",
      "source": [
        "Plotting the results of our model training (adapted from the PLON tutorial referenced earlier)"
      ]
    },
    {
      "metadata": {
        "id": "ePyD-nZO36-I",
        "colab_type": "code",
        "colab": {
          "autoexec": {
            "startup": false,
            "wait_interval": 0
          },
          "output_extras": [
            {
              "item_id": 1
            },
            {
              "item_id": 2
            }
          ],
          "base_uri": "https://localhost:8080/",
          "height": 763
        },
        "outputId": "6c7f3971-4830-4449-a8e4-a9d507e63185",
        "executionInfo": {
          "status": "ok",
          "timestamp": 1519794248504,
          "user_tz": 360,
          "elapsed": 899,
          "user": {
            "displayName": "Alex S",
            "photoUrl": "//lh6.googleusercontent.com/-mH-Eos6RmoI/AAAAAAAAAAI/AAAAAAAAAbo/mYhi0OCu_7E/s50-c-k-no/photo.jpg",
            "userId": "117863944102339058222"
          }
        }
      },
      "cell_type": "code",
      "source": [
        "plt.figure(0)\n",
        "plt.plot(cnn_nh.history['acc'],'b')\n",
        "plt.plot(cnn_nh.history['val_acc'],'g')\n",
        "plt.xticks(np.arange(0, 101, 5.0))\n",
        "plt.rcParams['figure.figsize'] = (8, 6)\n",
        "plt.xlabel(\"# of Epochs\")\n",
        "plt.ylabel(\"Accuracy\")\n",
        "plt.title(\"Training Accuracy vs Validation Accuracy - SGD\")\n",
        "plt.legend(['train','validation'])\n",
        " \n",
        " \n",
        "plt.figure(1)\n",
        "plt.plot(cnn_nh.history['loss'],'b')\n",
        "plt.plot(cnn_nh.history['val_loss'],'g')\n",
        "plt.xticks(np.arange(0, 101, 5.0))\n",
        "plt.rcParams['figure.figsize'] = (8, 6)\n",
        "plt.xlabel(\"# of Epochs\")\n",
        "plt.ylabel(\"Loss\")\n",
        "plt.title(\"Training Loss vs Validation Loss - SGD\")\n",
        "plt.legend(['train','validation'])\n",
        " \n",
        " \n",
        "plt.show()"
      ],
      "execution_count": 16,
      "outputs": [
        {
          "output_type": "display_data",
          "data": {
            "image/png": "[encoded data removed]",
            "text/plain": [
              "<matplotlib.figure.Figure at 0x7f5204ae1e80>"
            ]
          },
          "metadata": {
            "tags": []
          }
        },
        {
          "output_type": "display_data",
          "data": {
            "image/png": "[encoded data removed]",
            "text/plain": [
              "<matplotlib.figure.Figure at 0x7f52049b5710>"
            ]
          },
          "metadata": {
            "tags": []
          }
        }
      ]
    },
    {
      "metadata": {
        "id": "55D8LEwCReve",
        "colab_type": "text"
      },
      "cell_type": "markdown",
      "source": [
        "## Defining the model - Nadam"
      ]
    },
    {
      "metadata": {
        "id": "UYio1gFbsSza",
        "colab_type": "text"
      },
      "cell_type": "markdown",
      "source": [
        "Same structure as defined before, the only difference is the optimization method being used."
      ]
    },
    {
      "metadata": {
        "id": "F1CgosL9OxLf",
        "colab_type": "code",
        "colab": {
          "autoexec": {
            "startup": false,
            "wait_interval": 0
          }
        }
      },
      "cell_type": "code",
      "source": [
        "def model_nadam():\n",
        "\n",
        "  model = Sequential()\n",
        "\n",
        "# block 1\n",
        "  model.add(Conv2D(32, (3, 3), padding='same',\n",
        "                 input_shape=x_train.shape[1:]))\n",
        "  model.add(Activation('relu'))\n",
        "  model.add(Conv2D(32, (3, 3)))\n",
        "  model.add(Activation('relu'))\n",
        "  model.add(MaxPooling2D(pool_size=(2, 2)))\n",
        "  model.add(Dropout(0.25))\n",
        "\n",
        "# block 2\n",
        "  model.add(Conv2D(64, (3, 3), padding='same'))\n",
        "  model.add(Activation('relu'))\n",
        "  model.add(Conv2D(64, (3, 3)))\n",
        "  model.add(Activation('relu'))\n",
        "  model.add(MaxPooling2D(pool_size=(2, 2)))\n",
        "  model.add(Dropout(0.25))\n",
        "\n",
        "# block 3\n",
        "  model.add(Flatten())\n",
        "  model.add(Dense(512))\n",
        "  model.add(Activation('relu'))\n",
        "  model.add(Dropout(0.5))\n",
        "  model.add(Dense(num_classes))\n",
        "  model.add(Activation('softmax'))\n",
        "  \n",
        "  nadam = keras.optimizers.Nadam(lr=0.002, beta_1=0.9, beta_2=0.999, epsilon=None, schedule_decay=0.004) \n",
        "  # Adam for backpropagation with added nesterov momentum (more at https://keras.io/optimizers/)\n",
        "  # Adam paper https://arxiv.org/abs/1412.6980v8 (this very well may be overkill for this size of a problem)\n",
        "  \n",
        "  model.compile(loss='categorical_crossentropy', optimizer=nadam, metrics=['accuracy'])\n",
        "  return model\n"
      ],
      "execution_count": 0,
      "outputs": []
    },
    {
      "metadata": {
        "id": "IPIuwYEbRrmX",
        "colab_type": "text"
      },
      "cell_type": "markdown",
      "source": [
        "## Training the model - Nadam"
      ]
    },
    {
      "metadata": {
        "id": "8BSXArYFRu-b",
        "colab_type": "code",
        "colab": {
          "autoexec": {
            "startup": false,
            "wait_interval": 0
          },
          "output_extras": [
            {
              "item_id": 4
            },
            {
              "item_id": 50
            },
            {
              "item_id": 87
            },
            {
              "item_id": 121
            },
            {
              "item_id": 154
            },
            {
              "item_id": 186
            },
            {
              "item_id": 217
            },
            {
              "item_id": 250
            },
            {
              "item_id": 361
            },
            {
              "item_id": 452
            },
            {
              "item_id": 483
            },
            {
              "item_id": 514
            },
            {
              "item_id": 546
            },
            {
              "item_id": 576
            },
            {
              "item_id": 607
            },
            {
              "item_id": 668
            },
            {
              "item_id": 715
            },
            {
              "item_id": 745
            },
            {
              "item_id": 776
            },
            {
              "item_id": 837
            },
            {
              "item_id": 886
            },
            {
              "item_id": 973
            },
            {
              "item_id": 1080
            },
            {
              "item_id": 1186
            },
            {
              "item_id": 1235
            },
            {
              "item_id": 1266
            },
            {
              "item_id": 1297
            },
            {
              "item_id": 1328
            },
            {
              "item_id": 1408
            },
            {
              "item_id": 1501
            },
            {
              "item_id": 1531
            },
            {
              "item_id": 1561
            },
            {
              "item_id": 1592
            },
            {
              "item_id": 1623
            },
            {
              "item_id": 1654
            },
            {
              "item_id": 1685
            },
            {
              "item_id": 1715
            },
            {
              "item_id": 1746
            },
            {
              "item_id": 1777
            },
            {
              "item_id": 1808
            },
            {
              "item_id": 1862
            },
            {
              "item_id": 1893
            },
            {
              "item_id": 1925
            },
            {
              "item_id": 1955
            },
            {
              "item_id": 1986
            },
            {
              "item_id": 2017
            },
            {
              "item_id": 2048
            },
            {
              "item_id": 2079
            },
            {
              "item_id": 2110
            },
            {
              "item_id": 2141
            },
            {
              "item_id": 2172
            },
            {
              "item_id": 2204
            },
            {
              "item_id": 2235
            },
            {
              "item_id": 2266
            },
            {
              "item_id": 2297
            },
            {
              "item_id": 2327
            },
            {
              "item_id": 2357
            },
            {
              "item_id": 2387
            },
            {
              "item_id": 2418
            },
            {
              "item_id": 2449
            },
            {
              "item_id": 2479
            },
            {
              "item_id": 2509
            },
            {
              "item_id": 2540
            },
            {
              "item_id": 2572
            },
            {
              "item_id": 2612
            },
            {
              "item_id": 2654
            },
            {
              "item_id": 2685
            },
            {
              "item_id": 2716
            },
            {
              "item_id": 2747
            },
            {
              "item_id": 2792
            },
            {
              "item_id": 2822
            },
            {
              "item_id": 2852
            },
            {
              "item_id": 2881
            },
            {
              "item_id": 2910
            },
            {
              "item_id": 2941
            },
            {
              "item_id": 2971
            },
            {
              "item_id": 3000
            },
            {
              "item_id": 3031
            },
            {
              "item_id": 3077
            },
            {
              "item_id": 3108
            },
            {
              "item_id": 3138
            },
            {
              "item_id": 3169
            },
            {
              "item_id": 3200
            },
            {
              "item_id": 3239
            },
            {
              "item_id": 3270
            },
            {
              "item_id": 3318
            },
            {
              "item_id": 3347
            },
            {
              "item_id": 3377
            },
            {
              "item_id": 3407
            },
            {
              "item_id": 3448
            },
            {
              "item_id": 3478
            },
            {
              "item_id": 3509
            },
            {
              "item_id": 3540
            },
            {
              "item_id": 3571
            },
            {
              "item_id": 3619
            },
            {
              "item_id": 3650
            },
            {
              "item_id": 3679
            },
            {
              "item_id": 3708
            },
            {
              "item_id": 3739
            },
            {
              "item_id": 3770
            },
            {
              "item_id": 3779
            }
          ],
          "base_uri": "https://localhost:8080/",
          "height": 4136
        },
        "outputId": "201f893d-850c-49c0-f179-f15495ea0ef6",
        "executionInfo": {
          "status": "ok",
          "timestamp": 1519797268333,
          "user_tz": 360,
          "elapsed": 3019301,
          "user": {
            "displayName": "Alex S",
            "photoUrl": "//lh6.googleusercontent.com/-mH-Eos6RmoI/AAAAAAAAAAI/AAAAAAAAAbo/mYhi0OCu_7E/s50-c-k-no/photo.jpg",
            "userId": "117863944102339058222"
          }
        }
      },
      "cell_type": "code",
      "source": [
        "# Train model\n",
        "cnn_na = model_nadam()\n",
        "cnn_na.summary()\n",
        " \n",
        "# Fit model\n",
        "cnn_nah = cnn_na.fit(x_train, y_train, \n",
        "            batch_size=batch_size, \n",
        "            epochs=epochs, \n",
        "            validation_data=(x_test,y_test),\n",
        "            shuffle=True)"
      ],
      "execution_count": 18,
      "outputs": [
        {
          "output_type": "stream",
          "text": [
            "_________________________________________________________________\n",
            "Layer (type)                 Output Shape              Param #   \n",
            "=================================================================\n",
            "conv2d_9 (Conv2D)            (None, 32, 32, 32)        896       \n",
            "_________________________________________________________________\n",
            "activation_13 (Activation)   (None, 32, 32, 32)        0         \n",
            "_________________________________________________________________\n",
            "conv2d_10 (Conv2D)           (None, 30, 30, 32)        9248      \n",
            "_________________________________________________________________\n",
            "activation_14 (Activation)   (None, 30, 30, 32)        0         \n",
            "_________________________________________________________________\n",
            "max_pooling2d_5 (MaxPooling2 (None, 15, 15, 32)        0         \n",
            "_________________________________________________________________\n",
            "dropout_7 (Dropout)          (None, 15, 15, 32)        0         \n",
            "_________________________________________________________________\n",
            "conv2d_11 (Conv2D)           (None, 15, 15, 64)        18496     \n",
            "_________________________________________________________________\n",
            "activation_15 (Activation)   (None, 15, 15, 64)        0         \n",
            "_________________________________________________________________\n",
            "conv2d_12 (Conv2D)           (None, 13, 13, 64)        36928     \n",
            "_________________________________________________________________\n",
            "activation_16 (Activation)   (None, 13, 13, 64)        0         \n",
            "_________________________________________________________________\n",
            "max_pooling2d_6 (MaxPooling2 (None, 6, 6, 64)          0         \n",
            "_________________________________________________________________\n",
            "dropout_8 (Dropout)          (None, 6, 6, 64)          0         \n",
            "_________________________________________________________________\n",
            "flatten_3 (Flatten)          (None, 2304)              0         \n",
            "_________________________________________________________________\n",
            "dense_5 (Dense)              (None, 512)               1180160   \n",
            "_________________________________________________________________\n",
            "activation_17 (Activation)   (None, 512)               0         \n",
            "_________________________________________________________________\n",
            "dropout_9 (Dropout)          (None, 512)               0         \n",
            "_________________________________________________________________\n",
            "dense_6 (Dense)              (None, 10)                5130      \n",
            "_________________________________________________________________\n",
            "activation_18 (Activation)   (None, 10)                0         \n",
            "=================================================================\n",
            "Total params: 1,250,858\n",
            "Trainable params: 1,250,858\n",
            "Non-trainable params: 0\n",
            "_________________________________________________________________\n",
            "Train on 50000 samples, validate on 10000 samples\n",
            "Epoch 1/100\n",
            " 3104/50000 [>.............................] - ETA: 34s - loss: 2.3074 - acc: 0.1173"
          ],
          "name": "stdout"
        },
        {
          "output_type": "stream",
          "text": [
            "50000/50000 [==============================] - 32s 643us/step - loss: 1.6953 - acc: 0.3741 - val_loss: 1.3831 - val_acc: 0.5017\n",
            "Epoch 2/100\n",
            "25184/50000 [==============>...............] - ETA: 14s - loss: 1.3587 - acc: 0.5095"
          ],
          "name": "stdout"
        },
        {
          "output_type": "stream",
          "text": [
            "50000/50000 [==============================] - 31s 624us/step - loss: 1.3291 - acc: 0.5224 - val_loss: 1.1981 - val_acc: 0.5716\n",
            "Epoch 3/100\n",
            "33440/50000 [===================>..........] - ETA: 9s - loss: 1.2084 - acc: 0.5687"
          ],
          "name": "stdout"
        },
        {
          "output_type": "stream",
          "text": [
            "50000/50000 [==============================] - 31s 619us/step - loss: 1.1979 - acc: 0.5733 - val_loss: 1.0791 - val_acc: 0.6257\n",
            "Epoch 4/100\n",
            "36512/50000 [====================>.........] - ETA: 7s - loss: 1.1313 - acc: 0.6028"
          ],
          "name": "stdout"
        },
        {
          "output_type": "stream",
          "text": [
            "50000/50000 [==============================] - 31s 621us/step - loss: 1.1233 - acc: 0.6063 - val_loss: 1.0385 - val_acc: 0.6299\n",
            "Epoch 5/100\n",
            "37632/50000 [=====================>........] - ETA: 7s - loss: 1.0649 - acc: 0.6244"
          ],
          "name": "stdout"
        },
        {
          "output_type": "stream",
          "text": [
            "50000/50000 [==============================] - 31s 623us/step - loss: 1.0636 - acc: 0.6268 - val_loss: 0.9711 - val_acc: 0.6600\n",
            "Epoch 6/100\n",
            "38080/50000 [=====================>........] - ETA: 7s - loss: 1.0280 - acc: 0.6361"
          ],
          "name": "stdout"
        },
        {
          "output_type": "stream",
          "text": [
            "50000/50000 [==============================] - 31s 627us/step - loss: 1.0234 - acc: 0.6384 - val_loss: 0.9291 - val_acc: 0.6718\n",
            "Epoch 7/100\n",
            "38208/50000 [=====================>........] - ETA: 6s - loss: 0.9965 - acc: 0.6482"
          ],
          "name": "stdout"
        },
        {
          "output_type": "stream",
          "text": [
            "50000/50000 [==============================] - 31s 611us/step - loss: 0.9979 - acc: 0.6473 - val_loss: 0.9109 - val_acc: 0.6855\n",
            "Epoch 8/100\n",
            "38336/50000 [======================>.......] - ETA: 6s - loss: 0.9632 - acc: 0.6591"
          ],
          "name": "stdout"
        },
        {
          "output_type": "stream",
          "text": [
            "50000/50000 [==============================] - 31s 612us/step - loss: 0.9659 - acc: 0.6595 - val_loss: 0.9529 - val_acc: 0.6704\n",
            "Epoch 9/100\n",
            "38336/50000 [======================>.......] - ETA: 6s - loss: 0.9506 - acc: 0.6684"
          ],
          "name": "stdout"
        },
        {
          "output_type": "stream",
          "text": [
            "50000/50000 [==============================] - 31s 611us/step - loss: 0.9454 - acc: 0.6699 - val_loss: 0.8679 - val_acc: 0.7035\n",
            "Epoch 10/100\n",
            "38144/50000 [=====================>........] - ETA: 6s - loss: 0.9349 - acc: 0.6756"
          ],
          "name": "stdout"
        },
        {
          "output_type": "stream",
          "text": [
            "50000/50000 [==============================] - 30s 604us/step - loss: 0.9393 - acc: 0.6743 - val_loss: 0.8636 - val_acc: 0.7013\n",
            "Epoch 11/100\n",
            "38144/50000 [=====================>........] - ETA: 6s - loss: 0.9178 - acc: 0.6791"
          ],
          "name": "stdout"
        },
        {
          "output_type": "stream",
          "text": [
            "50000/50000 [==============================] - 30s 608us/step - loss: 0.9198 - acc: 0.6791 - val_loss: 0.8516 - val_acc: 0.7047\n",
            "Epoch 12/100\n",
            "38144/50000 [=====================>........] - ETA: 6s - loss: 0.8950 - acc: 0.6890"
          ],
          "name": "stdout"
        },
        {
          "output_type": "stream",
          "text": [
            "50000/50000 [==============================] - 30s 608us/step - loss: 0.9014 - acc: 0.6867 - val_loss: 0.8542 - val_acc: 0.7046\n",
            "Epoch 13/100\n",
            "38144/50000 [=====================>........] - ETA: 6s - loss: 0.8961 - acc: 0.6874"
          ],
          "name": "stdout"
        },
        {
          "output_type": "stream",
          "text": [
            "50000/50000 [==============================] - 30s 606us/step - loss: 0.9005 - acc: 0.6853 - val_loss: 0.8848 - val_acc: 0.6914\n",
            "Epoch 14/100\n",
            "38144/50000 [=====================>........] - ETA: 6s - loss: 0.8868 - acc: 0.6883"
          ],
          "name": "stdout"
        },
        {
          "output_type": "stream",
          "text": [
            "50000/50000 [==============================] - 30s 605us/step - loss: 0.8910 - acc: 0.6877 - val_loss: 0.8199 - val_acc: 0.7186\n",
            "Epoch 15/100\n",
            "38144/50000 [=====================>........] - ETA: 6s - loss: 0.8725 - acc: 0.6944"
          ],
          "name": "stdout"
        },
        {
          "output_type": "stream",
          "text": [
            "50000/50000 [==============================] - 30s 604us/step - loss: 0.8729 - acc: 0.6938 - val_loss: 0.9248 - val_acc: 0.6963\n",
            "Epoch 16/100\n",
            "38144/50000 [=====================>........] - ETA: 6s - loss: 0.8617 - acc: 0.7006"
          ],
          "name": "stdout"
        },
        {
          "output_type": "stream",
          "text": [
            "50000/50000 [==============================] - 30s 604us/step - loss: 0.8650 - acc: 0.6995 - val_loss: 0.8437 - val_acc: 0.7088\n",
            "Epoch 17/100\n",
            "38144/50000 [=====================>........] - ETA: 6s - loss: 0.8516 - acc: 0.7050"
          ],
          "name": "stdout"
        },
        {
          "output_type": "stream",
          "text": [
            "50000/50000 [==============================] - 30s 605us/step - loss: 0.8567 - acc: 0.7027 - val_loss: 0.8135 - val_acc: 0.7216\n",
            "Epoch 18/100\n",
            "38112/50000 [=====================>........] - ETA: 6s - loss: 0.8475 - acc: 0.7016"
          ],
          "name": "stdout"
        },
        {
          "output_type": "stream",
          "text": [
            "50000/50000 [==============================] - 30s 610us/step - loss: 0.8499 - acc: 0.7016 - val_loss: 0.7891 - val_acc: 0.7262\n",
            "Epoch 19/100\n",
            "38144/50000 [=====================>........] - ETA: 6s - loss: 0.8382 - acc: 0.7087"
          ],
          "name": "stdout"
        },
        {
          "output_type": "stream",
          "text": [
            "50000/50000 [==============================] - 30s 606us/step - loss: 0.8411 - acc: 0.7064 - val_loss: 0.8075 - val_acc: 0.7201\n",
            "Epoch 20/100\n",
            "38144/50000 [=====================>........] - ETA: 6s - loss: 0.8310 - acc: 0.7098"
          ],
          "name": "stdout"
        },
        {
          "output_type": "stream",
          "text": [
            "50000/50000 [==============================] - 30s 604us/step - loss: 0.8332 - acc: 0.7095 - val_loss: 0.8325 - val_acc: 0.7146\n",
            "Epoch 21/100\n",
            "38144/50000 [=====================>........] - ETA: 6s - loss: 0.8212 - acc: 0.7130"
          ],
          "name": "stdout"
        },
        {
          "output_type": "stream",
          "text": [
            "50000/50000 [==============================] - 30s 605us/step - loss: 0.8288 - acc: 0.7107 - val_loss: 0.8314 - val_acc: 0.7163\n",
            "Epoch 22/100\n",
            "38144/50000 [=====================>........] - ETA: 6s - loss: 0.8264 - acc: 0.7136"
          ],
          "name": "stdout"
        },
        {
          "output_type": "stream",
          "text": [
            "50000/50000 [==============================] - 30s 607us/step - loss: 0.8279 - acc: 0.7125 - val_loss: 0.7965 - val_acc: 0.7264\n",
            "Epoch 23/100\n",
            "38144/50000 [=====================>........] - ETA: 6s - loss: 0.8207 - acc: 0.7159"
          ],
          "name": "stdout"
        },
        {
          "output_type": "stream",
          "text": [
            "50000/50000 [==============================] - 30s 606us/step - loss: 0.8214 - acc: 0.7163 - val_loss: 0.8041 - val_acc: 0.7246\n",
            "Epoch 24/100\n",
            "38144/50000 [=====================>........] - ETA: 6s - loss: 0.8071 - acc: 0.7182"
          ],
          "name": "stdout"
        },
        {
          "output_type": "stream",
          "text": [
            "50000/50000 [==============================] - 30s 603us/step - loss: 0.8136 - acc: 0.7172 - val_loss: 0.8211 - val_acc: 0.7212\n",
            "Epoch 25/100\n",
            "38144/50000 [=====================>........] - ETA: 6s - loss: 0.8013 - acc: 0.7224"
          ],
          "name": "stdout"
        },
        {
          "output_type": "stream",
          "text": [
            "50000/50000 [==============================] - 30s 604us/step - loss: 0.8055 - acc: 0.7211 - val_loss: 0.7841 - val_acc: 0.7341\n",
            "Epoch 26/100\n",
            "38144/50000 [=====================>........] - ETA: 6s - loss: 0.8037 - acc: 0.7190"
          ],
          "name": "stdout"
        },
        {
          "output_type": "stream",
          "text": [
            "50000/50000 [==============================] - 30s 605us/step - loss: 0.8057 - acc: 0.7185 - val_loss: 0.7982 - val_acc: 0.7292\n",
            "Epoch 27/100\n",
            "38144/50000 [=====================>........] - ETA: 6s - loss: 0.8018 - acc: 0.7202"
          ],
          "name": "stdout"
        },
        {
          "output_type": "stream",
          "text": [
            "50000/50000 [==============================] - 30s 601us/step - loss: 0.8001 - acc: 0.7217 - val_loss: 0.8140 - val_acc: 0.7249\n",
            "Epoch 28/100\n",
            "38112/50000 [=====================>........] - ETA: 6s - loss: 0.7882 - acc: 0.7256"
          ],
          "name": "stdout"
        },
        {
          "output_type": "stream",
          "text": [
            "50000/50000 [==============================] - 30s 603us/step - loss: 0.7959 - acc: 0.7224 - val_loss: 0.8484 - val_acc: 0.7114\n",
            "Epoch 29/100\n",
            "38144/50000 [=====================>........] - ETA: 6s - loss: 0.7862 - acc: 0.7276"
          ],
          "name": "stdout"
        },
        {
          "output_type": "stream",
          "text": [
            "50000/50000 [==============================] - 30s 608us/step - loss: 0.7927 - acc: 0.7254 - val_loss: 0.7624 - val_acc: 0.7404\n",
            "Epoch 30/100\n",
            "38144/50000 [=====================>........] - ETA: 6s - loss: 0.7854 - acc: 0.7287"
          ],
          "name": "stdout"
        },
        {
          "output_type": "stream",
          "text": [
            "50000/50000 [==============================] - 30s 600us/step - loss: 0.7911 - acc: 0.7264 - val_loss: 0.7922 - val_acc: 0.7301\n",
            "Epoch 31/100\n",
            "38144/50000 [=====================>........] - ETA: 6s - loss: 0.7827 - acc: 0.7302"
          ],
          "name": "stdout"
        },
        {
          "output_type": "stream",
          "text": [
            "50000/50000 [==============================] - 30s 601us/step - loss: 0.7881 - acc: 0.7281 - val_loss: 0.8446 - val_acc: 0.7172\n",
            "Epoch 32/100\n",
            "38144/50000 [=====================>........] - ETA: 6s - loss: 0.7863 - acc: 0.7277"
          ],
          "name": "stdout"
        },
        {
          "output_type": "stream",
          "text": [
            "50000/50000 [==============================] - 30s 606us/step - loss: 0.7886 - acc: 0.7268 - val_loss: 0.7709 - val_acc: 0.7381\n",
            "Epoch 33/100\n",
            "38112/50000 [=====================>........] - ETA: 6s - loss: 0.7730 - acc: 0.7308"
          ],
          "name": "stdout"
        },
        {
          "output_type": "stream",
          "text": [
            "50000/50000 [==============================] - 30s 603us/step - loss: 0.7769 - acc: 0.7291 - val_loss: 0.8132 - val_acc: 0.7252\n",
            "Epoch 34/100\n",
            "38144/50000 [=====================>........] - ETA: 6s - loss: 0.7764 - acc: 0.7305"
          ],
          "name": "stdout"
        },
        {
          "output_type": "stream",
          "text": [
            "50000/50000 [==============================] - 30s 603us/step - loss: 0.7781 - acc: 0.7303 - val_loss: 0.8115 - val_acc: 0.7287\n",
            "Epoch 35/100\n",
            "38144/50000 [=====================>........] - ETA: 6s - loss: 0.7585 - acc: 0.7344"
          ],
          "name": "stdout"
        },
        {
          "output_type": "stream",
          "text": [
            "50000/50000 [==============================] - 30s 603us/step - loss: 0.7626 - acc: 0.7353 - val_loss: 0.8062 - val_acc: 0.7285\n",
            "Epoch 36/100\n",
            "38144/50000 [=====================>........] - ETA: 6s - loss: 0.7661 - acc: 0.7352"
          ],
          "name": "stdout"
        },
        {
          "output_type": "stream",
          "text": [
            "50000/50000 [==============================] - 30s 605us/step - loss: 0.7681 - acc: 0.7336 - val_loss: 0.8330 - val_acc: 0.7224\n",
            "Epoch 37/100\n",
            "38144/50000 [=====================>........] - ETA: 6s - loss: 0.7690 - acc: 0.7349"
          ],
          "name": "stdout"
        },
        {
          "output_type": "stream",
          "text": [
            "50000/50000 [==============================] - 30s 605us/step - loss: 0.7669 - acc: 0.7360 - val_loss: 0.7759 - val_acc: 0.7323\n",
            "Epoch 38/100\n",
            "38144/50000 [=====================>........] - ETA: 6s - loss: 0.7572 - acc: 0.7402"
          ],
          "name": "stdout"
        },
        {
          "output_type": "stream",
          "text": [
            "50000/50000 [==============================] - 30s 604us/step - loss: 0.7582 - acc: 0.7403 - val_loss: 0.7745 - val_acc: 0.7349\n",
            "Epoch 39/100\n",
            "38112/50000 [=====================>........] - ETA: 6s - loss: 0.7415 - acc: 0.7445"
          ],
          "name": "stdout"
        },
        {
          "output_type": "stream",
          "text": [
            "50000/50000 [==============================] - 30s 602us/step - loss: 0.7478 - acc: 0.7422 - val_loss: 0.7716 - val_acc: 0.7369\n",
            "Epoch 40/100\n",
            "38144/50000 [=====================>........] - ETA: 6s - loss: 0.7368 - acc: 0.7461"
          ],
          "name": "stdout"
        },
        {
          "output_type": "stream",
          "text": [
            "50000/50000 [==============================] - 30s 603us/step - loss: 0.7481 - acc: 0.7431 - val_loss: 0.7795 - val_acc: 0.7396\n",
            "Epoch 41/100\n",
            "38144/50000 [=====================>........] - ETA: 6s - loss: 0.7490 - acc: 0.7401"
          ],
          "name": "stdout"
        },
        {
          "output_type": "stream",
          "text": [
            "50000/50000 [==============================] - 31s 611us/step - loss: 0.7513 - acc: 0.7393 - val_loss: 0.7856 - val_acc: 0.7369\n",
            "Epoch 42/100\n",
            "38144/50000 [=====================>........] - ETA: 6s - loss: 0.7433 - acc: 0.7447"
          ],
          "name": "stdout"
        },
        {
          "output_type": "stream",
          "text": [
            "50000/50000 [==============================] - 30s 608us/step - loss: 0.7469 - acc: 0.7424 - val_loss: 0.7863 - val_acc: 0.7343\n",
            "Epoch 43/100\n",
            "38112/50000 [=====================>........] - ETA: 6s - loss: 0.7533 - acc: 0.7388"
          ],
          "name": "stdout"
        },
        {
          "output_type": "stream",
          "text": [
            "50000/50000 [==============================] - 30s 605us/step - loss: 0.7560 - acc: 0.7394 - val_loss: 0.7958 - val_acc: 0.7315\n",
            "Epoch 44/100\n",
            "38144/50000 [=====================>........] - ETA: 6s - loss: 0.7467 - acc: 0.7428"
          ],
          "name": "stdout"
        },
        {
          "output_type": "stream",
          "text": [
            "50000/50000 [==============================] - 30s 607us/step - loss: 0.7471 - acc: 0.7441 - val_loss: 0.8021 - val_acc: 0.7332\n",
            "Epoch 45/100\n",
            "38144/50000 [=====================>........] - ETA: 6s - loss: 0.7412 - acc: 0.7439"
          ],
          "name": "stdout"
        },
        {
          "output_type": "stream",
          "text": [
            "50000/50000 [==============================] - 30s 604us/step - loss: 0.7412 - acc: 0.7446 - val_loss: 0.7940 - val_acc: 0.7393\n",
            "Epoch 46/100\n",
            "38144/50000 [=====================>........] - ETA: 6s - loss: 0.7354 - acc: 0.7450"
          ],
          "name": "stdout"
        },
        {
          "output_type": "stream",
          "text": [
            "50000/50000 [==============================] - 30s 603us/step - loss: 0.7400 - acc: 0.7436 - val_loss: 0.8151 - val_acc: 0.7329\n",
            "Epoch 47/100\n",
            "38144/50000 [=====================>........] - ETA: 6s - loss: 0.7267 - acc: 0.7492"
          ],
          "name": "stdout"
        },
        {
          "output_type": "stream",
          "text": [
            "50000/50000 [==============================] - 30s 602us/step - loss: 0.7335 - acc: 0.7472 - val_loss: 0.7706 - val_acc: 0.7422\n",
            "Epoch 48/100\n",
            "38144/50000 [=====================>........] - ETA: 6s - loss: 0.7345 - acc: 0.7471"
          ],
          "name": "stdout"
        },
        {
          "output_type": "stream",
          "text": [
            "50000/50000 [==============================] - 30s 606us/step - loss: 0.7405 - acc: 0.7447 - val_loss: 0.7659 - val_acc: 0.7376\n",
            "Epoch 49/100\n",
            "38144/50000 [=====================>........] - ETA: 6s - loss: 0.7140 - acc: 0.7547"
          ],
          "name": "stdout"
        },
        {
          "output_type": "stream",
          "text": [
            "50000/50000 [==============================] - 30s 605us/step - loss: 0.7258 - acc: 0.7510 - val_loss: 0.7595 - val_acc: 0.7456\n",
            "Epoch 50/100\n",
            "38144/50000 [=====================>........] - ETA: 6s - loss: 0.7216 - acc: 0.7516"
          ],
          "name": "stdout"
        },
        {
          "output_type": "stream",
          "text": [
            "50000/50000 [==============================] - 30s 605us/step - loss: 0.7220 - acc: 0.7511 - val_loss: 0.7691 - val_acc: 0.7443\n",
            "Epoch 51/100\n",
            "38144/50000 [=====================>........] - ETA: 6s - loss: 0.7261 - acc: 0.7526"
          ],
          "name": "stdout"
        },
        {
          "output_type": "stream",
          "text": [
            "50000/50000 [==============================] - 30s 603us/step - loss: 0.7307 - acc: 0.7506 - val_loss: 0.7862 - val_acc: 0.7368\n",
            "Epoch 52/100\n",
            "38144/50000 [=====================>........] - ETA: 6s - loss: 0.7190 - acc: 0.7527"
          ],
          "name": "stdout"
        },
        {
          "output_type": "stream",
          "text": [
            "50000/50000 [==============================] - 30s 610us/step - loss: 0.7258 - acc: 0.7508 - val_loss: 0.7800 - val_acc: 0.7389\n",
            "Epoch 53/100\n",
            "38144/50000 [=====================>........] - ETA: 6s - loss: 0.7202 - acc: 0.7541"
          ],
          "name": "stdout"
        },
        {
          "output_type": "stream",
          "text": [
            "50000/50000 [==============================] - 30s 604us/step - loss: 0.7248 - acc: 0.7521 - val_loss: 0.7605 - val_acc: 0.7456\n",
            "Epoch 54/100\n",
            "38144/50000 [=====================>........] - ETA: 6s - loss: 0.7172 - acc: 0.7530"
          ],
          "name": "stdout"
        },
        {
          "output_type": "stream",
          "text": [
            "50000/50000 [==============================] - 30s 605us/step - loss: 0.7204 - acc: 0.7508 - val_loss: 0.7544 - val_acc: 0.7457\n",
            "Epoch 55/100\n",
            "38144/50000 [=====================>........] - ETA: 6s - loss: 0.7174 - acc: 0.7512"
          ],
          "name": "stdout"
        },
        {
          "output_type": "stream",
          "text": [
            "50000/50000 [==============================] - 30s 603us/step - loss: 0.7200 - acc: 0.7509 - val_loss: 0.7546 - val_acc: 0.7503\n",
            "Epoch 56/100\n",
            "38144/50000 [=====================>........] - ETA: 6s - loss: 0.7153 - acc: 0.7531"
          ],
          "name": "stdout"
        },
        {
          "output_type": "stream",
          "text": [
            "50000/50000 [==============================] - 30s 601us/step - loss: 0.7164 - acc: 0.7531 - val_loss: 0.7797 - val_acc: 0.7472\n",
            "Epoch 57/100\n",
            "38144/50000 [=====================>........] - ETA: 6s - loss: 0.7077 - acc: 0.7560"
          ],
          "name": "stdout"
        },
        {
          "output_type": "stream",
          "text": [
            "50000/50000 [==============================] - 30s 603us/step - loss: 0.7152 - acc: 0.7536 - val_loss: 0.7865 - val_acc: 0.7376\n",
            "Epoch 58/100\n",
            "38144/50000 [=====================>........] - ETA: 6s - loss: 0.7178 - acc: 0.7538"
          ],
          "name": "stdout"
        },
        {
          "output_type": "stream",
          "text": [
            "50000/50000 [==============================] - 30s 605us/step - loss: 0.7243 - acc: 0.7512 - val_loss: 0.8163 - val_acc: 0.7325\n",
            "Epoch 59/100\n",
            "38144/50000 [=====================>........] - ETA: 6s - loss: 0.7099 - acc: 0.7568"
          ],
          "name": "stdout"
        },
        {
          "output_type": "stream",
          "text": [
            "50000/50000 [==============================] - 30s 608us/step - loss: 0.7117 - acc: 0.7571 - val_loss: 0.9102 - val_acc: 0.7098\n",
            "Epoch 60/100\n",
            "38144/50000 [=====================>........] - ETA: 6s - loss: 0.7098 - acc: 0.7561"
          ],
          "name": "stdout"
        },
        {
          "output_type": "stream",
          "text": [
            "50000/50000 [==============================] - 30s 602us/step - loss: 0.7102 - acc: 0.7553 - val_loss: 0.7905 - val_acc: 0.7409\n",
            "Epoch 61/100\n",
            "38144/50000 [=====================>........] - ETA: 6s - loss: 0.6962 - acc: 0.7625"
          ],
          "name": "stdout"
        },
        {
          "output_type": "stream",
          "text": [
            "50000/50000 [==============================] - 30s 598us/step - loss: 0.7016 - acc: 0.7598 - val_loss: 0.8058 - val_acc: 0.7301\n",
            "Epoch 62/100\n",
            "38176/50000 [=====================>........] - ETA: 6s - loss: 0.6980 - acc: 0.7592"
          ],
          "name": "stdout"
        },
        {
          "output_type": "stream",
          "text": [
            "50000/50000 [==============================] - 30s 598us/step - loss: 0.6997 - acc: 0.7577 - val_loss: 0.7793 - val_acc: 0.7391\n",
            "Epoch 63/100\n",
            "38144/50000 [=====================>........] - ETA: 6s - loss: 0.7038 - acc: 0.7611"
          ],
          "name": "stdout"
        },
        {
          "output_type": "stream",
          "text": [
            "50000/50000 [==============================] - 30s 600us/step - loss: 0.7107 - acc: 0.7589 - val_loss: 0.8157 - val_acc: 0.7312\n",
            "Epoch 64/100\n",
            "38144/50000 [=====================>........] - ETA: 6s - loss: 0.6957 - acc: 0.7605"
          ],
          "name": "stdout"
        },
        {
          "output_type": "stream",
          "text": [
            "50000/50000 [==============================] - 30s 607us/step - loss: 0.7017 - acc: 0.7592 - val_loss: 0.7649 - val_acc: 0.7468\n",
            "Epoch 65/100\n",
            "38112/50000 [=====================>........] - ETA: 6s - loss: 0.7000 - acc: 0.7630"
          ],
          "name": "stdout"
        },
        {
          "output_type": "stream",
          "text": [
            "50000/50000 [==============================] - 30s 596us/step - loss: 0.7046 - acc: 0.7613 - val_loss: 0.7916 - val_acc: 0.7385\n",
            "Epoch 66/100\n",
            "38144/50000 [=====================>........] - ETA: 6s - loss: 0.7053 - acc: 0.7582"
          ],
          "name": "stdout"
        },
        {
          "output_type": "stream",
          "text": [
            "50000/50000 [==============================] - 30s 597us/step - loss: 0.7069 - acc: 0.7579 - val_loss: 0.8557 - val_acc: 0.7133\n",
            "Epoch 67/100\n",
            "38144/50000 [=====================>........] - ETA: 6s - loss: 0.6977 - acc: 0.7626"
          ],
          "name": "stdout"
        },
        {
          "output_type": "stream",
          "text": [
            "50000/50000 [==============================] - 30s 597us/step - loss: 0.7027 - acc: 0.7618 - val_loss: 0.7740 - val_acc: 0.7472\n",
            "Epoch 68/100\n",
            "38144/50000 [=====================>........] - ETA: 6s - loss: 0.7016 - acc: 0.7606"
          ],
          "name": "stdout"
        },
        {
          "output_type": "stream",
          "text": [
            "50000/50000 [==============================] - 30s 597us/step - loss: 0.7015 - acc: 0.7611 - val_loss: 0.7760 - val_acc: 0.7432\n",
            "Epoch 69/100\n",
            "38144/50000 [=====================>........] - ETA: 6s - loss: 0.7000 - acc: 0.7615"
          ],
          "name": "stdout"
        },
        {
          "output_type": "stream",
          "text": [
            "50000/50000 [==============================] - 30s 599us/step - loss: 0.7008 - acc: 0.7611 - val_loss: 0.8207 - val_acc: 0.7319\n",
            "Epoch 70/100\n",
            "38144/50000 [=====================>........] - ETA: 6s - loss: 0.6936 - acc: 0.7635"
          ],
          "name": "stdout"
        },
        {
          "output_type": "stream",
          "text": [
            "50000/50000 [==============================] - 30s 599us/step - loss: 0.6973 - acc: 0.7634 - val_loss: 0.8332 - val_acc: 0.7291\n",
            "Epoch 71/100\n",
            "38144/50000 [=====================>........] - ETA: 6s - loss: 0.6873 - acc: 0.7652"
          ],
          "name": "stdout"
        },
        {
          "output_type": "stream",
          "text": [
            "50000/50000 [==============================] - 30s 596us/step - loss: 0.6895 - acc: 0.7640 - val_loss: 0.7846 - val_acc: 0.7369\n",
            "Epoch 72/100\n",
            "38144/50000 [=====================>........] - ETA: 6s - loss: 0.6944 - acc: 0.7621"
          ],
          "name": "stdout"
        },
        {
          "output_type": "stream",
          "text": [
            "50000/50000 [==============================] - 30s 599us/step - loss: 0.6958 - acc: 0.7615 - val_loss: 0.7585 - val_acc: 0.7526\n",
            "Epoch 73/100\n",
            "38176/50000 [=====================>........] - ETA: 6s - loss: 0.6852 - acc: 0.7627"
          ],
          "name": "stdout"
        },
        {
          "output_type": "stream",
          "text": [
            "50000/50000 [==============================] - 30s 599us/step - loss: 0.6950 - acc: 0.7607 - val_loss: 0.7730 - val_acc: 0.7458\n",
            "Epoch 74/100\n",
            "38144/50000 [=====================>........] - ETA: 6s - loss: 0.6952 - acc: 0.7628"
          ],
          "name": "stdout"
        },
        {
          "output_type": "stream",
          "text": [
            "50000/50000 [==============================] - 30s 597us/step - loss: 0.6956 - acc: 0.7628 - val_loss: 0.8152 - val_acc: 0.7329\n",
            "Epoch 75/100\n",
            "38176/50000 [=====================>........] - ETA: 6s - loss: 0.6779 - acc: 0.7659"
          ],
          "name": "stdout"
        },
        {
          "output_type": "stream",
          "text": [
            "50000/50000 [==============================] - 30s 602us/step - loss: 0.6787 - acc: 0.7661 - val_loss: 0.7844 - val_acc: 0.7495\n",
            "Epoch 76/100\n",
            "38144/50000 [=====================>........] - ETA: 6s - loss: 0.6836 - acc: 0.7660"
          ],
          "name": "stdout"
        },
        {
          "output_type": "stream",
          "text": [
            "50000/50000 [==============================] - 30s 599us/step - loss: 0.6983 - acc: 0.7617 - val_loss: 0.7954 - val_acc: 0.7320\n",
            "Epoch 77/100\n",
            "38144/50000 [=====================>........] - ETA: 6s - loss: 0.6887 - acc: 0.7640"
          ],
          "name": "stdout"
        },
        {
          "output_type": "stream",
          "text": [
            "50000/50000 [==============================] - 30s 599us/step - loss: 0.6864 - acc: 0.7652 - val_loss: 0.7972 - val_acc: 0.7381\n",
            "Epoch 78/100\n",
            "38144/50000 [=====================>........] - ETA: 6s - loss: 0.6947 - acc: 0.7621"
          ],
          "name": "stdout"
        },
        {
          "output_type": "stream",
          "text": [
            "50000/50000 [==============================] - 30s 599us/step - loss: 0.7012 - acc: 0.7601 - val_loss: 0.7942 - val_acc: 0.7355\n",
            "Epoch 79/100\n",
            "38144/50000 [=====================>........] - ETA: 6s - loss: 0.6854 - acc: 0.7662"
          ],
          "name": "stdout"
        },
        {
          "output_type": "stream",
          "text": [
            "50000/50000 [==============================] - 30s 601us/step - loss: 0.6913 - acc: 0.7650 - val_loss: 0.7486 - val_acc: 0.7512\n",
            "Epoch 80/100\n",
            "38144/50000 [=====================>........] - ETA: 6s - loss: 0.6758 - acc: 0.7690"
          ],
          "name": "stdout"
        },
        {
          "output_type": "stream",
          "text": [
            "50000/50000 [==============================] - 30s 598us/step - loss: 0.6801 - acc: 0.7690 - val_loss: 0.7634 - val_acc: 0.7492\n",
            "Epoch 81/100\n",
            "38144/50000 [=====================>........] - ETA: 6s - loss: 0.6748 - acc: 0.7684"
          ],
          "name": "stdout"
        },
        {
          "output_type": "stream",
          "text": [
            "50000/50000 [==============================] - 30s 597us/step - loss: 0.6748 - acc: 0.7688 - val_loss: 0.8258 - val_acc: 0.7305\n",
            "Epoch 82/100\n",
            "38144/50000 [=====================>........] - ETA: 6s - loss: 0.6842 - acc: 0.7675"
          ],
          "name": "stdout"
        },
        {
          "output_type": "stream",
          "text": [
            "50000/50000 [==============================] - 30s 599us/step - loss: 0.6987 - acc: 0.7627 - val_loss: 0.7760 - val_acc: 0.7448\n",
            "Epoch 83/100\n",
            "38176/50000 [=====================>........] - ETA: 6s - loss: 0.6666 - acc: 0.7723"
          ],
          "name": "stdout"
        },
        {
          "output_type": "stream",
          "text": [
            "50000/50000 [==============================] - 30s 599us/step - loss: 0.6726 - acc: 0.7692 - val_loss: 0.7827 - val_acc: 0.7439\n",
            "Epoch 84/100\n",
            "38112/50000 [=====================>........] - ETA: 6s - loss: 0.6822 - acc: 0.7680"
          ],
          "name": "stdout"
        },
        {
          "output_type": "stream",
          "text": [
            "50000/50000 [==============================] - 30s 597us/step - loss: 0.6819 - acc: 0.7691 - val_loss: 0.7885 - val_acc: 0.7461\n",
            "Epoch 85/100\n",
            "38144/50000 [=====================>........] - ETA: 6s - loss: 0.6717 - acc: 0.7734"
          ],
          "name": "stdout"
        },
        {
          "output_type": "stream",
          "text": [
            "50000/50000 [==============================] - 30s 598us/step - loss: 0.6756 - acc: 0.7708 - val_loss: 0.8581 - val_acc: 0.7254\n",
            "Epoch 86/100\n",
            "38144/50000 [=====================>........] - ETA: 6s - loss: 0.6855 - acc: 0.7646"
          ],
          "name": "stdout"
        },
        {
          "output_type": "stream",
          "text": [
            "50000/50000 [==============================] - 30s 596us/step - loss: 0.6845 - acc: 0.7651 - val_loss: 0.7701 - val_acc: 0.7482\n",
            "Epoch 87/100\n",
            "38144/50000 [=====================>........] - ETA: 6s - loss: 0.6818 - acc: 0.7677"
          ],
          "name": "stdout"
        },
        {
          "output_type": "stream",
          "text": [
            "50000/50000 [==============================] - 30s 599us/step - loss: 0.6828 - acc: 0.7676 - val_loss: 0.8124 - val_acc: 0.7421\n",
            "Epoch 88/100\n",
            "38144/50000 [=====================>........] - ETA: 6s - loss: 0.6747 - acc: 0.7707"
          ],
          "name": "stdout"
        },
        {
          "output_type": "stream",
          "text": [
            "50000/50000 [==============================] - 30s 601us/step - loss: 0.6752 - acc: 0.7706 - val_loss: 0.7796 - val_acc: 0.7464\n",
            "Epoch 89/100\n",
            "38144/50000 [=====================>........] - ETA: 6s - loss: 0.6653 - acc: 0.7725"
          ],
          "name": "stdout"
        },
        {
          "output_type": "stream",
          "text": [
            "50000/50000 [==============================] - 30s 597us/step - loss: 0.6708 - acc: 0.7711 - val_loss: 0.8161 - val_acc: 0.7340\n",
            "Epoch 90/100\n",
            "38144/50000 [=====================>........] - ETA: 6s - loss: 0.6645 - acc: 0.7740"
          ],
          "name": "stdout"
        },
        {
          "output_type": "stream",
          "text": [
            "50000/50000 [==============================] - 30s 597us/step - loss: 0.6675 - acc: 0.7739 - val_loss: 0.7851 - val_acc: 0.7443\n",
            "Epoch 91/100\n",
            "38112/50000 [=====================>........] - ETA: 6s - loss: 0.6686 - acc: 0.7727"
          ],
          "name": "stdout"
        },
        {
          "output_type": "stream",
          "text": [
            "50000/50000 [==============================] - 30s 596us/step - loss: 0.6693 - acc: 0.7716 - val_loss: 0.7928 - val_acc: 0.7403\n",
            "Epoch 92/100\n",
            "38144/50000 [=====================>........] - ETA: 6s - loss: 0.6697 - acc: 0.7723"
          ],
          "name": "stdout"
        },
        {
          "output_type": "stream",
          "text": [
            "50000/50000 [==============================] - 30s 598us/step - loss: 0.6735 - acc: 0.7715 - val_loss: 0.7969 - val_acc: 0.7437\n",
            "Epoch 93/100\n",
            "38176/50000 [=====================>........] - ETA: 6s - loss: 0.6657 - acc: 0.7725"
          ],
          "name": "stdout"
        },
        {
          "output_type": "stream",
          "text": [
            "50000/50000 [==============================] - 30s 598us/step - loss: 0.6681 - acc: 0.7731 - val_loss: 0.7938 - val_acc: 0.7488\n",
            "Epoch 94/100\n",
            "38144/50000 [=====================>........] - ETA: 6s - loss: 0.6687 - acc: 0.7731"
          ],
          "name": "stdout"
        },
        {
          "output_type": "stream",
          "text": [
            "50000/50000 [==============================] - 30s 595us/step - loss: 0.6739 - acc: 0.7716 - val_loss: 0.8110 - val_acc: 0.7388\n",
            "Epoch 95/100\n",
            "38144/50000 [=====================>........] - ETA: 6s - loss: 0.6746 - acc: 0.7722"
          ],
          "name": "stdout"
        },
        {
          "output_type": "stream",
          "text": [
            "50000/50000 [==============================] - 30s 601us/step - loss: 0.6851 - acc: 0.7687 - val_loss: 0.8152 - val_acc: 0.7360\n",
            "Epoch 96/100\n",
            "38144/50000 [=====================>........] - ETA: 6s - loss: 0.6762 - acc: 0.7728"
          ],
          "name": "stdout"
        },
        {
          "output_type": "stream",
          "text": [
            "50000/50000 [==============================] - 30s 598us/step - loss: 0.6739 - acc: 0.7732 - val_loss: 0.7902 - val_acc: 0.7402\n",
            "Epoch 97/100\n",
            "38144/50000 [=====================>........] - ETA: 6s - loss: 0.6701 - acc: 0.7724"
          ],
          "name": "stdout"
        },
        {
          "output_type": "stream",
          "text": [
            "50000/50000 [==============================] - 30s 597us/step - loss: 0.6674 - acc: 0.7736 - val_loss: 0.7897 - val_acc: 0.7521\n",
            "Epoch 98/100\n",
            "38112/50000 [=====================>........] - ETA: 6s - loss: 0.6642 - acc: 0.7742"
          ],
          "name": "stdout"
        },
        {
          "output_type": "stream",
          "text": [
            "50000/50000 [==============================] - 30s 597us/step - loss: 0.6646 - acc: 0.7742 - val_loss: 0.8067 - val_acc: 0.7393\n",
            "Epoch 99/100\n",
            "38144/50000 [=====================>........] - ETA: 6s - loss: 0.6552 - acc: 0.7766"
          ],
          "name": "stdout"
        },
        {
          "output_type": "stream",
          "text": [
            "50000/50000 [==============================] - 30s 598us/step - loss: 0.6638 - acc: 0.7747 - val_loss: 0.8021 - val_acc: 0.7380\n",
            "Epoch 100/100\n",
            "37952/50000 [=====================>........] - ETA: 6s - loss: 0.6563 - acc: 0.7780"
          ],
          "name": "stdout"
        },
        {
          "output_type": "stream",
          "text": [
            "50000/50000 [==============================] - 30s 596us/step - loss: 0.6603 - acc: 0.7765 - val_loss: 0.7834 - val_acc: 0.7500\n"
          ],
          "name": "stdout"
        }
      ]
    },
    {
      "metadata": {
        "id": "H_6sqhclTtZx",
        "colab_type": "code",
        "colab": {
          "autoexec": {
            "startup": false,
            "wait_interval": 0
          },
          "output_extras": [
            {
              "item_id": 8
            }
          ],
          "base_uri": "https://localhost:8080/",
          "height": 84
        },
        "outputId": "8779c35f-a320-4e30-e250-19554c176dec",
        "executionInfo": {
          "status": "ok",
          "timestamp": 1519797482046,
          "user_tz": 360,
          "elapsed": 1989,
          "user": {
            "displayName": "Alex S",
            "photoUrl": "//lh6.googleusercontent.com/-mH-Eos6RmoI/AAAAAAAAAAI/AAAAAAAAAbo/mYhi0OCu_7E/s50-c-k-no/photo.jpg",
            "userId": "117863944102339058222"
          }
        }
      },
      "cell_type": "code",
      "source": [
        "# os library allows us to interface with our operating system\n",
        "save_dir = os.path.join(os.getcwd(), 'saved_models')\n",
        "model_name = 'keras_cifar10_trained_model_nadam.h5'\n",
        "if not os.path.isdir(save_dir):\n",
        "    os.makedirs(save_dir)\n",
        "model_path = os.path.join(save_dir, model_name)\n",
        "cnn_na.save(model_path)\n",
        "print('Saved trained model at %s ' % model_path)\n",
        "\n",
        "# output score for model\n",
        "scores = cnn_na.evaluate(x_test, y_test, verbose=1)\n",
        "print('Test loss:', scores[0])\n",
        "print('Test accuracy:', scores[1])"
      ],
      "execution_count": 22,
      "outputs": [
        {
          "output_type": "stream",
          "text": [
            "Saved trained model at /content/saved_models/keras_cifar10_trained_model_nadam.h5 \n",
            "10000/10000 [==============================] - 2s 175us/step\n",
            "Test loss: 0.783402370595932\n",
            "Test accuracy: 0.75\n"
          ],
          "name": "stdout"
        }
      ]
    },
    {
      "metadata": {
        "id": "rlGyAB6eT5Ud",
        "colab_type": "text"
      },
      "cell_type": "markdown",
      "source": [
        "## Visualizing the results - Nadam"
      ]
    },
    {
      "metadata": {
        "id": "5rwNHIa3T83r",
        "colab_type": "code",
        "colab": {
          "autoexec": {
            "startup": false,
            "wait_interval": 0
          },
          "output_extras": [
            {
              "item_id": 1
            },
            {
              "item_id": 2
            }
          ],
          "base_uri": "https://localhost:8080/",
          "height": 790
        },
        "outputId": "f723def8-7666-4ac6-829e-f9fa575faba0",
        "executionInfo": {
          "status": "ok",
          "timestamp": 1519797271282,
          "user_tz": 360,
          "elapsed": 892,
          "user": {
            "displayName": "Alex S",
            "photoUrl": "//lh6.googleusercontent.com/-mH-Eos6RmoI/AAAAAAAAAAI/AAAAAAAAAbo/mYhi0OCu_7E/s50-c-k-no/photo.jpg",
            "userId": "117863944102339058222"
          }
        }
      },
      "cell_type": "code",
      "source": [
        "\n",
        "plt.figure(0)\n",
        "plt.plot(cnn_nah.history['acc'],'b')\n",
        "plt.plot(cnn_nah.history['val_acc'],'g')\n",
        "plt.xticks(np.arange(0, 101, 5.0))\n",
        "plt.rcParams['figure.figsize'] = (8, 6)\n",
        "plt.xlabel(\"# of Epochs\")\n",
        "plt.ylabel(\"Accuracy\")\n",
        "plt.title(\"Training Accuracy vs Validation Accuracy - Nadam\")\n",
        "plt.legend(['train','validation'])\n",
        " \n",
        " \n",
        "plt.figure(1)\n",
        "plt.plot(cnn_nah.history['loss'],'b')\n",
        "plt.plot(cnn_nah.history['val_loss'],'g')\n",
        "plt.xticks(np.arange(0, 101, 5.0))\n",
        "plt.rcParams['figure.figsize'] = (8, 6)\n",
        "plt.xlabel(\"# of Epochs\")\n",
        "plt.ylabel(\"Loss\")\n",
        "plt.title(\"Training Loss vs Validation Loss - Nadam\")\n",
        "plt.legend(['train','validation'])\n",
        " \n",
        " \n",
        "plt.show()"
      ],
      "execution_count": 20,
      "outputs": [
        {
          "output_type": "display_data",
          "data": {
            "image/png": "[encoded data removed]",
            "text/plain": [
              "<matplotlib.figure.Figure at 0x7f5201692198>"
            ]
          },
          "metadata": {
            "tags": []
          }
        },
        {
          "output_type": "display_data",
          "data": {
            "image/png": "[encoded data removed]",
            "text/plain": [
              "<matplotlib.figure.Figure at 0x7f520173bcc0>"
            ]
          },
          "metadata": {
            "tags": []
          }
        }
      ]
    },
    {
      "metadata": {
        "id": "ZScvxGyNUXHr",
        "colab_type": "text"
      },
      "cell_type": "markdown",
      "source": [
        "## Comparing the two optimizers"
      ]
    },
    {
      "metadata": {
        "id": "7jHfsXcyUZYY",
        "colab_type": "code",
        "colab": {
          "autoexec": {
            "startup": false,
            "wait_interval": 0
          },
          "output_extras": [
            {
              "item_id": 1
            },
            {
              "item_id": 2
            },
            {
              "item_id": 3
            },
            {
              "item_id": 4
            }
          ],
          "base_uri": "https://localhost:8080/",
          "height": 1563
        },
        "outputId": "5efe484b-f2ff-4a14-87c5-0a759cfffa47",
        "executionInfo": {
          "status": "ok",
          "timestamp": 1519797273074,
          "user_tz": 360,
          "elapsed": 1552,
          "user": {
            "displayName": "Alex S",
            "photoUrl": "//lh6.googleusercontent.com/-mH-Eos6RmoI/AAAAAAAAAAI/AAAAAAAAAbo/mYhi0OCu_7E/s50-c-k-no/photo.jpg",
            "userId": "117863944102339058222"
          }
        }
      },
      "cell_type": "code",
      "source": [
        "plt.figure(0)\n",
        "plt.plot(cnn_nh.history['acc'],'r')\n",
        "plt.plot(cnn_nah.history['acc'],'g')\n",
        "plt.xticks(np.arange(0, 101, 5.0))\n",
        "plt.rcParams['figure.figsize'] = (8, 6)\n",
        "plt.xlabel(\"# of Epochs\")\n",
        "plt.ylabel(\"Accuracy\")\n",
        "plt.title(\"Training Accuracy: SGD vs. Nadam\")\n",
        "plt.legend(['SGD','Nadam'])\n",
        " \n",
        " \n",
        "plt.figure(1)\n",
        "plt.plot(cnn_nh.history['val_loss'],'r')\n",
        "plt.plot(cnn_nah.history['val_loss'],'g')\n",
        "plt.xticks(np.arange(0, 101, 5.0))\n",
        "plt.rcParams['figure.figsize'] = (8, 6)\n",
        "plt.xlabel(\"# of Epochs\")\n",
        "plt.ylabel(\"Loss\")\n",
        "plt.title(\"Validation Accuracy: SGD vs. Nadam\")\n",
        "plt.legend(['SGD','Nadam'])\n",
        "\n",
        "plt.figure(2)\n",
        "plt.plot(cnn_nh.history['loss'],'r')\n",
        "plt.plot(cnn_nah.history['loss'],'g')\n",
        "plt.xticks(np.arange(0, 101, 5.0))\n",
        "plt.rcParams['figure.figsize'] = (8, 6)\n",
        "plt.xlabel(\"# of Epochs\")\n",
        "plt.ylabel(\"Accuracy\")\n",
        "plt.title(\"Training Loss: SGD vs. Nadam\")\n",
        "plt.legend(['SGD','Nadam'])\n",
        " \n",
        " \n",
        "plt.figure(3)\n",
        "plt.plot(cnn_nh.history['val_loss'],'r')\n",
        "plt.plot(cnn_nah.history['val_loss'],'g')\n",
        "plt.xticks(np.arange(0, 101, 5.0))\n",
        "plt.rcParams['figure.figsize'] = (8, 6)\n",
        "plt.xlabel(\"# of Epochs\")\n",
        "plt.ylabel(\"Loss\")\n",
        "plt.title(\"Validation Loss: SGD vs. Nadam\")\n",
        "plt.legend(['SGD','Nadam'])\n",
        " \n",
        " \n",
        "plt.show()"
      ],
      "execution_count": 21,
      "outputs": [
        {
          "output_type": "display_data",
          "data": {
            "image/png": "[encoded data removed]",
            "text/plain": [
              "<matplotlib.figure.Figure at 0x7f5201820e10>"
            ]
          },
          "metadata": {
            "tags": []
          }
        },
        {
          "output_type": "display_data",
          "data": {
            "image/png": "[encoded data removed]",
            "text/plain": [
              "<matplotlib.figure.Figure at 0x7f52015bd518>"
            ]
          },
          "metadata": {
            "tags": []
          }
        },
        {
          "output_type": "display_data",
          "data": {
            "image/png": "[encoded data removed]",
            "text/plain": [
              "<matplotlib.figure.Figure at 0x7f5201533ac8>"
            ]
          },
          "metadata": {
            "tags": []
          }
        },
        {
          "output_type": "display_data",
          "data": {
            "image/png": "[encoded data removed]",
            "text/plain": [
              "<matplotlib.figure.Figure at 0x7f5201491a58>"
            ]
          },
          "metadata": {
            "tags": []
          }
        }
      ]
    },
    {
      "metadata": {
        "id": "UL17M5mFt5dr",
        "colab_type": "text"
      },
      "cell_type": "markdown",
      "source": [
        "## Conclusions"
      ]
    },
    {
      "metadata": {
        "id": "jx8Iy6MkuE08",
        "colab_type": "text"
      },
      "cell_type": "markdown",
      "source": [
        "\n",
        "* The epoch size of 100 was much larger than necessary\n",
        "*   SGD ended with a validation accuracy of 75.76%, compared to Nadam that had 75.00% accuracy\n",
        "*   SGD converged faster and began to slightly overfit at around 20 epochs\n",
        "* Whereas Nadam took around 50 epochs to fully converge\n",
        "* In the future for problems of this size I would probably choose SGD as it converges faster and trains faster\n",
        "\n",
        "If I wanted to continue to increase my accuracy there are several directions I could head in:\n",
        "* Residual Neural Networks\n",
        "* Better Data Augmentation\n",
        "* Deeper Layers\n",
        "* Better hyper-parameter tuning\n",
        "* Using a pretrained architecture\n",
        "* Experiment with more optimizers\n",
        "\n",
        "Overall, I'm satisfied with what I've learned through this project as an introduction to CNNs and image recognition. My initial accuracy using the image averages was 24.87%, which means my CNN with a 75.76% accuracy was a 304.62% improvement. If I were to explore it further I would use the larger ImageNet dataset and try some more advanced architectures like ResNet or AlexNet.\n",
        "\n"
      ]
    },
    {
      "metadata": {
        "id": "flhKVXAUvh9K",
        "colab_type": "code",
        "colab": {
          "autoexec": {
            "startup": false,
            "wait_interval": 0
          }
        }
      },
      "cell_type": "code",
      "source": [
        ""
      ],
      "execution_count": 0,
      "outputs": []
    }
  ]
}